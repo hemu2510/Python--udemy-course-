{
  "nbformat": 4,
  "nbformat_minor": 0,
  "metadata": {
    "colab": {
      "provenance": [],
      "authorship_tag": "ABX9TyP+FepB3X2ksnh+Prt0MjEj",
      "include_colab_link": true
    },
    "kernelspec": {
      "name": "python3",
      "display_name": "Python 3"
    },
    "language_info": {
      "name": "python"
    }
  },
  "cells": [
    {
      "cell_type": "markdown",
      "metadata": {
        "id": "view-in-github",
        "colab_type": "text"
      },
      "source": [
        "<a href=\"https://colab.research.google.com/github/hemu2510/Python--udemy-course-/blob/main/Ndarrays_6th_feb.ipynb\" target=\"_parent\"><img src=\"https://colab.research.google.com/assets/colab-badge.svg\" alt=\"Open In Colab\"/></a>"
      ]
    },
    {
      "cell_type": "code",
      "source": [
        "import numpy as np\n",
        "array_a = np.array([4,8,12])\n",
        "array_a"
      ],
      "metadata": {
        "colab": {
          "base_uri": "https://localhost:8080/"
        },
        "id": "OK5Y030RqGfm",
        "outputId": "a016b037-6ad5-456a-b7ab-8f57cf90bd92"
      },
      "execution_count": null,
      "outputs": [
        {
          "output_type": "execute_result",
          "data": {
            "text/plain": [
              "array([ 4,  8, 12])"
            ]
          },
          "metadata": {},
          "execution_count": 3
        }
      ]
    },
    {
      "cell_type": "code",
      "execution_count": null,
      "metadata": {
        "colab": {
          "base_uri": "https://localhost:8080/"
        },
        "id": "7EpQOcIVpbm2",
        "outputId": "e311146f-8790-485d-a6aa-651a46994394"
      },
      "outputs": [
        {
          "output_type": "execute_result",
          "data": {
            "text/plain": [
              "numpy.ndarray"
            ]
          },
          "metadata": {},
          "execution_count": 4
        }
      ],
      "source": [
        "type(array_a)"
      ]
    },
    {
      "cell_type": "markdown",
      "source": [
        "List vs Array"
      ],
      "metadata": {
        "id": "sxBtUz5htsPr"
      }
    },
    {
      "cell_type": "code",
      "source": [
        "list_a = [[2,4,8],[3,6,9]]\n",
        "len(list_a)"
      ],
      "metadata": {
        "colab": {
          "base_uri": "https://localhost:8080/"
        },
        "id": "Nsfg-L4cqctE",
        "outputId": "93625930-0530-45fd-f802-81d3bd203148"
      },
      "execution_count": null,
      "outputs": [
        {
          "output_type": "execute_result",
          "data": {
            "text/plain": [
              "2"
            ]
          },
          "metadata": {},
          "execution_count": 5
        }
      ]
    },
    {
      "cell_type": "code",
      "source": [
        "type(list_a)"
      ],
      "metadata": {
        "colab": {
          "base_uri": "https://localhost:8080/"
        },
        "id": "EeA-ng6St4-h",
        "outputId": "777b4fcc-5737-412a-ad7f-3feea403d780"
      },
      "execution_count": null,
      "outputs": [
        {
          "output_type": "execute_result",
          "data": {
            "text/plain": [
              "list"
            ]
          },
          "metadata": {},
          "execution_count": 6
        }
      ]
    },
    {
      "cell_type": "code",
      "source": [
        "array_a = np.array(list_a)\n",
        "type(array_a)"
      ],
      "metadata": {
        "colab": {
          "base_uri": "https://localhost:8080/"
        },
        "id": "z_pvyPLouINS",
        "outputId": "a9ba05c5-88dc-483f-a746-735de593d198"
      },
      "execution_count": null,
      "outputs": [
        {
          "output_type": "execute_result",
          "data": {
            "text/plain": [
              "numpy.ndarray"
            ]
          },
          "metadata": {},
          "execution_count": 7
        }
      ]
    },
    {
      "cell_type": "markdown",
      "source": [
        "Working with arrays"
      ],
      "metadata": {
        "id": "Jy6RuiYLLfuH"
      }
    },
    {
      "cell_type": "code",
      "source": [
        "import numpy as np"
      ],
      "metadata": {
        "id": "g02rE3gAKTmq"
      },
      "execution_count": 2,
      "outputs": []
    },
    {
      "cell_type": "code",
      "source": [
        "matrix_A = np.array([[2,4,8],[3,6,9]])\n",
        "matrix_A"
      ],
      "metadata": {
        "colab": {
          "base_uri": "https://localhost:8080/"
        },
        "id": "fUeCkdPvLkmd",
        "outputId": "3dbfae7e-f99c-4888-a2f6-4a4d41d8e2f3"
      },
      "execution_count": 4,
      "outputs": [
        {
          "output_type": "execute_result",
          "data": {
            "text/plain": [
              "array([[2, 4, 8],\n",
              "       [3, 6, 9]])"
            ]
          },
          "metadata": {},
          "execution_count": 4
        }
      ]
    },
    {
      "cell_type": "markdown",
      "source": [
        "slicing"
      ],
      "metadata": {
        "id": "ea7pCIJrOF6G"
      }
    },
    {
      "cell_type": "code",
      "source": [
        "matrix_A[0:2]"
      ],
      "metadata": {
        "colab": {
          "base_uri": "https://localhost:8080/"
        },
        "id": "UNGz9CECLw1u",
        "outputId": "f543adbf-b279-4585-98d4-ab688d7aab39"
      },
      "execution_count": 8,
      "outputs": [
        {
          "output_type": "execute_result",
          "data": {
            "text/plain": [
              "array([[2, 4, 8],\n",
              "       [3, 6, 9]])"
            ]
          },
          "metadata": {},
          "execution_count": 8
        }
      ]
    },
    {
      "cell_type": "code",
      "source": [
        "matrix_A[:,2:]"
      ],
      "metadata": {
        "colab": {
          "base_uri": "https://localhost:8080/"
        },
        "id": "VeUAnjKNMeWG",
        "outputId": "fbd3e037-fa51-49f9-fb21-d8118320b7e9"
      },
      "execution_count": 10,
      "outputs": [
        {
          "output_type": "execute_result",
          "data": {
            "text/plain": [
              "array([[8],\n",
              "       [9]])"
            ]
          },
          "metadata": {},
          "execution_count": 10
        }
      ]
    },
    {
      "cell_type": "code",
      "source": [
        "matrix_A[1:,1:]"
      ],
      "metadata": {
        "colab": {
          "base_uri": "https://localhost:8080/"
        },
        "id": "wfay9BF7OK5I",
        "outputId": "e1e1950f-a3cf-48ae-c28f-6af95ac548bf"
      },
      "execution_count": 15,
      "outputs": [
        {
          "output_type": "execute_result",
          "data": {
            "text/plain": [
              "array([[6, 9]])"
            ]
          },
          "metadata": {},
          "execution_count": 15
        }
      ]
    },
    {
      "cell_type": "markdown",
      "source": [
        "Stepwise slicing"
      ],
      "metadata": {
        "id": "U_QWIpfjaZZ9"
      }
    },
    {
      "cell_type": "code",
      "source": [
        "matrix_c = np.array([[1,1,1,1,1],[2,3,4,2,3],[4,6,5,4,2]])\n",
        "matrix_c"
      ],
      "metadata": {
        "colab": {
          "base_uri": "https://localhost:8080/"
        },
        "id": "hpLUDuPhObED",
        "outputId": "0b7a131b-b23d-43c5-e192-7289a74af7be"
      },
      "execution_count": 17,
      "outputs": [
        {
          "output_type": "execute_result",
          "data": {
            "text/plain": [
              "array([[1, 1, 1, 1, 1],\n",
              "       [2, 3, 4, 2, 3],\n",
              "       [4, 6, 5, 4, 2]])"
            ]
          },
          "metadata": {},
          "execution_count": 17
        }
      ]
    },
    {
      "cell_type": "code",
      "source": [
        "matrix_c[1:2]"
      ],
      "metadata": {
        "colab": {
          "base_uri": "https://localhost:8080/"
        },
        "id": "CqL3ozCcapot",
        "outputId": "06bc2829-95a0-4fe6-cff5-dc99c1d5b5a3"
      },
      "execution_count": 18,
      "outputs": [
        {
          "output_type": "execute_result",
          "data": {
            "text/plain": [
              "array([[2, 3, 4, 2, 3]])"
            ]
          },
          "metadata": {},
          "execution_count": 18
        }
      ]
    },
    {
      "cell_type": "code",
      "source": [
        "matrix_c[:,:]"
      ],
      "metadata": {
        "colab": {
          "base_uri": "https://localhost:8080/"
        },
        "id": "s_TkrFTxayEl",
        "outputId": "5b732fa0-d7bd-4fee-d3eb-c03f391d0a10"
      },
      "execution_count": 19,
      "outputs": [
        {
          "output_type": "execute_result",
          "data": {
            "text/plain": [
              "array([[1, 1, 1, 1, 1],\n",
              "       [2, 3, 4, 2, 3],\n",
              "       [4, 6, 5, 4, 2]])"
            ]
          },
          "metadata": {},
          "execution_count": 19
        }
      ]
    },
    {
      "cell_type": "code",
      "source": [
        "matrix_c[:,3]"
      ],
      "metadata": {
        "colab": {
          "base_uri": "https://localhost:8080/"
        },
        "id": "nYshKjrua9M8",
        "outputId": "83798dd8-775e-4541-bef2-2b13334216fd"
      },
      "execution_count": 20,
      "outputs": [
        {
          "output_type": "execute_result",
          "data": {
            "text/plain": [
              "array([1, 2, 4])"
            ]
          },
          "metadata": {},
          "execution_count": 20
        }
      ]
    },
    {
      "cell_type": "code",
      "source": [
        "matrix_c[:,1]"
      ],
      "metadata": {
        "colab": {
          "base_uri": "https://localhost:8080/"
        },
        "id": "yOsdlK7kbAQo",
        "outputId": "4e576a4d-b7a6-433a-9135-8a8a0698c2f6"
      },
      "execution_count": 22,
      "outputs": [
        {
          "output_type": "execute_result",
          "data": {
            "text/plain": [
              "array([1, 3, 6])"
            ]
          },
          "metadata": {},
          "execution_count": 22
        }
      ]
    },
    {
      "cell_type": "code",
      "source": [
        "matrix_c[::-3,::2]"
      ],
      "metadata": {
        "colab": {
          "base_uri": "https://localhost:8080/"
        },
        "id": "v-jB7Nzcbxlb",
        "outputId": "a4e5959a-65f7-4000-9f78-6ed4a6d97fd9"
      },
      "execution_count": 31,
      "outputs": [
        {
          "output_type": "execute_result",
          "data": {
            "text/plain": [
              "array([[4, 5, 2]])"
            ]
          },
          "metadata": {},
          "execution_count": 31
        }
      ]
    },
    {
      "cell_type": "markdown",
      "source": [
        "Conditional slicing"
      ],
      "metadata": {
        "id": "K6le7yMQdWL3"
      }
    },
    {
      "cell_type": "code",
      "source": [
        "matrix_c = np.array([[1,1,1,1,1],[2,3,4,2,3],[4,6,5,4,2]])\n",
        "matrix_c"
      ],
      "metadata": {
        "colab": {
          "base_uri": "https://localhost:8080/"
        },
        "id": "tx3CKu5IcEtj",
        "outputId": "8c4a4999-bd09-4ac0-e98f-d692dad91ce9"
      },
      "execution_count": 32,
      "outputs": [
        {
          "output_type": "execute_result",
          "data": {
            "text/plain": [
              "array([[1, 1, 1, 1, 1],\n",
              "       [2, 3, 4, 2, 3],\n",
              "       [4, 6, 5, 4, 2]])"
            ]
          },
          "metadata": {},
          "execution_count": 32
        }
      ]
    },
    {
      "cell_type": "code",
      "source": [
        "matrix_c[:,1]"
      ],
      "metadata": {
        "colab": {
          "base_uri": "https://localhost:8080/"
        },
        "id": "wyj3ZhmNdech",
        "outputId": "5edd543a-4c1a-4d2b-d6b3-20cb7aa810de"
      },
      "execution_count": 33,
      "outputs": [
        {
          "output_type": "execute_result",
          "data": {
            "text/plain": [
              "array([1, 3, 6])"
            ]
          },
          "metadata": {},
          "execution_count": 33
        }
      ]
    },
    {
      "cell_type": "code",
      "source": [
        "matrix_c[:,0] > 1"
      ],
      "metadata": {
        "colab": {
          "base_uri": "https://localhost:8080/"
        },
        "id": "W-iFaCL7djAN",
        "outputId": "d04c3a79-7ed4-47f1-8463-3b7ff50f559c"
      },
      "execution_count": 35,
      "outputs": [
        {
          "output_type": "execute_result",
          "data": {
            "text/plain": [
              "array([False,  True,  True])"
            ]
          },
          "metadata": {},
          "execution_count": 35
        }
      ]
    },
    {
      "cell_type": "code",
      "source": [
        "matrix_c[:,:]>1"
      ],
      "metadata": {
        "colab": {
          "base_uri": "https://localhost:8080/"
        },
        "id": "EuPYjzzldnvN",
        "outputId": "ab6e7f97-ba0a-40a8-9735-82f3999e867b"
      },
      "execution_count": 37,
      "outputs": [
        {
          "output_type": "execute_result",
          "data": {
            "text/plain": [
              "array([[False, False, False, False, False],\n",
              "       [ True,  True,  True,  True,  True],\n",
              "       [ True,  True,  True,  True,  True]])"
            ]
          },
          "metadata": {},
          "execution_count": 37
        }
      ]
    },
    {
      "cell_type": "code",
      "source": [
        "matrix_c[matrix_c[:,:]>4]"
      ],
      "metadata": {
        "colab": {
          "base_uri": "https://localhost:8080/"
        },
        "id": "8jucuYgtd7c9",
        "outputId": "8e5c95f9-4fe7-40b1-db07-78125b2f2046"
      },
      "execution_count": 42,
      "outputs": [
        {
          "output_type": "execute_result",
          "data": {
            "text/plain": [
              "array([6, 5])"
            ]
          },
          "metadata": {},
          "execution_count": 42
        }
      ]
    },
    {
      "cell_type": "code",
      "source": [
        "matrix_c[matrix_c[:,:]==4]"
      ],
      "metadata": {
        "colab": {
          "base_uri": "https://localhost:8080/"
        },
        "id": "yJh5V1pjeQf-",
        "outputId": "8c055ac3-90a1-4af8-f532-4c691e03eee2"
      },
      "execution_count": 43,
      "outputs": [
        {
          "output_type": "execute_result",
          "data": {
            "text/plain": [
              "array([4, 4, 4])"
            ]
          },
          "metadata": {},
          "execution_count": 43
        }
      ]
    },
    {
      "cell_type": "code",
      "source": [
        "matrix_c[matrix_c[:,:]>=4]"
      ],
      "metadata": {
        "colab": {
          "base_uri": "https://localhost:8080/"
        },
        "id": "9VlMSfvkeb2_",
        "outputId": "636562c9-fab8-4d45-a476-ac9f345c9c2d"
      },
      "execution_count": 44,
      "outputs": [
        {
          "output_type": "execute_result",
          "data": {
            "text/plain": [
              "array([4, 4, 6, 5, 4])"
            ]
          },
          "metadata": {},
          "execution_count": 44
        }
      ]
    },
    {
      "cell_type": "code",
      "source": [
        "matrix_c[matrix_c[:,:]<=4]"
      ],
      "metadata": {
        "colab": {
          "base_uri": "https://localhost:8080/"
        },
        "id": "b5hXc8NdeyNo",
        "outputId": "ae4431a8-15ee-4cf1-c5f2-a87e6b6d100e"
      },
      "execution_count": 45,
      "outputs": [
        {
          "output_type": "execute_result",
          "data": {
            "text/plain": [
              "array([1, 1, 1, 1, 1, 2, 3, 4, 2, 3, 4, 4, 2])"
            ]
          },
          "metadata": {},
          "execution_count": 45
        }
      ]
    },
    {
      "cell_type": "code",
      "source": [
        "matrix_c[matrix_c[:,:]!=4]"
      ],
      "metadata": {
        "colab": {
          "base_uri": "https://localhost:8080/"
        },
        "id": "Fe2VtGhwe17p",
        "outputId": "1d885d9f-66a8-454f-e326-54316428f678"
      },
      "execution_count": 46,
      "outputs": [
        {
          "output_type": "execute_result",
          "data": {
            "text/plain": [
              "array([1, 1, 1, 1, 1, 2, 3, 2, 3, 6, 5, 2])"
            ]
          },
          "metadata": {},
          "execution_count": 46
        }
      ]
    },
    {
      "cell_type": "code",
      "source": [
        "matrix_c[matrix_c[:,:] % 4 == 2]"
      ],
      "metadata": {
        "colab": {
          "base_uri": "https://localhost:8080/"
        },
        "id": "y3nYGPZWe5sg",
        "outputId": "edd7494b-86d2-479a-fe5c-d5a835fb57d1"
      },
      "execution_count": 49,
      "outputs": [
        {
          "output_type": "execute_result",
          "data": {
            "text/plain": [
              "array([2, 2, 6, 2])"
            ]
          },
          "metadata": {},
          "execution_count": 49
        }
      ]
    },
    {
      "cell_type": "code",
      "source": [
        "matrix_c[(matrix_c[:,:] % 4 == 2) | (matrix_c[:,:] <=2)]"
      ],
      "metadata": {
        "colab": {
          "base_uri": "https://localhost:8080/"
        },
        "id": "DQzDkgQIfEJ1",
        "outputId": "b01e1731-12cf-4749-e3ab-238de48d5317"
      },
      "execution_count": 51,
      "outputs": [
        {
          "output_type": "execute_result",
          "data": {
            "text/plain": [
              "array([1, 1, 1, 1, 1, 2, 2, 6, 2])"
            ]
          },
          "metadata": {},
          "execution_count": 51
        }
      ]
    },
    {
      "cell_type": "markdown",
      "source": [
        "Dimensions and the Squeeze Function"
      ],
      "metadata": {
        "id": "-WeAbaEFgzK_"
      }
    },
    {
      "cell_type": "code",
      "source": [
        "matrix_D = np.array([[1,1,1,1,1],[2,3,4,2,3],[4,6,5,4,2]])\n",
        "matrix_D"
      ],
      "metadata": {
        "colab": {
          "base_uri": "https://localhost:8080/"
        },
        "id": "UtEUM9_EflDY",
        "outputId": "d75a6b64-887c-4103-cda1-ba16d353dae9"
      },
      "execution_count": 52,
      "outputs": [
        {
          "output_type": "execute_result",
          "data": {
            "text/plain": [
              "array([[1, 1, 1, 1, 1],\n",
              "       [2, 3, 4, 2, 3],\n",
              "       [4, 6, 5, 4, 2]])"
            ]
          },
          "metadata": {},
          "execution_count": 52
        }
      ]
    },
    {
      "cell_type": "code",
      "source": [
        "type(matrix_D[1,2])"
      ],
      "metadata": {
        "colab": {
          "base_uri": "https://localhost:8080/"
        },
        "id": "M9xTaRHIhMAt",
        "outputId": "cf370fec-722e-40b0-dbfc-f80537bdd36f"
      },
      "execution_count": 54,
      "outputs": [
        {
          "output_type": "execute_result",
          "data": {
            "text/plain": [
              "numpy.int64"
            ]
          },
          "metadata": {},
          "execution_count": 54
        }
      ]
    },
    {
      "cell_type": "code",
      "source": [
        "print(matrix_D[1,2])"
      ],
      "metadata": {
        "colab": {
          "base_uri": "https://localhost:8080/"
        },
        "id": "km5_xWq3hPmw",
        "outputId": "977d49c0-705b-4e50-c29f-fccc4312cf5f"
      },
      "execution_count": 55,
      "outputs": [
        {
          "output_type": "stream",
          "name": "stdout",
          "text": [
            "4\n"
          ]
        }
      ]
    },
    {
      "cell_type": "code",
      "source": [
        "type(matrix_D[1,2:2])"
      ],
      "metadata": {
        "colab": {
          "base_uri": "https://localhost:8080/"
        },
        "id": "5n8hj-2nh9Jp",
        "outputId": "7802292e-18af-4c21-bdaa-6b85a2736c25"
      },
      "execution_count": 58,
      "outputs": [
        {
          "output_type": "execute_result",
          "data": {
            "text/plain": [
              "numpy.ndarray"
            ]
          },
          "metadata": {},
          "execution_count": 58
        }
      ]
    },
    {
      "cell_type": "code",
      "source": [
        "print(matrix_D[0,1:2])"
      ],
      "metadata": {
        "colab": {
          "base_uri": "https://localhost:8080/"
        },
        "id": "WlYbSujziB5q",
        "outputId": "d073cad8-7303-43a3-f726-617a7563555d"
      },
      "execution_count": 60,
      "outputs": [
        {
          "output_type": "stream",
          "name": "stdout",
          "text": [
            "[1]\n"
          ]
        }
      ]
    },
    {
      "cell_type": "code",
      "source": [
        "print(matrix_D[0,0].shape)\n",
        "print(matrix_D[0,1:2].shape)\n",
        "print(matrix_D[0:1,1:2].shape)"
      ],
      "metadata": {
        "colab": {
          "base_uri": "https://localhost:8080/"
        },
        "id": "_Jhpjw05ifDu",
        "outputId": "2cd3cd93-15ed-4ed1-cb17-25fd7984cf9b"
      },
      "execution_count": 61,
      "outputs": [
        {
          "output_type": "stream",
          "name": "stdout",
          "text": [
            "()\n",
            "(1,)\n",
            "(1, 1)\n"
          ]
        }
      ]
    },
    {
      "cell_type": "code",
      "source": [
        "print(matrix_D[0:1,0:1].squeeze())"
      ],
      "metadata": {
        "colab": {
          "base_uri": "https://localhost:8080/"
        },
        "id": "6weVdtSCi-KR",
        "outputId": "48435d0a-6e85-43f6-f1c2-2d20d0fb4c6d"
      },
      "execution_count": 66,
      "outputs": [
        {
          "output_type": "stream",
          "name": "stdout",
          "text": [
            "1\n"
          ]
        }
      ]
    },
    {
      "cell_type": "code",
      "source": [
        " print(matrix_D[0,0].squeeze().shape)\n",
        "print(matrix_D[0,1:2].squeeze().shape)\n",
        "print(matrix_D[0:1,1:2].squeeze().shape)"
      ],
      "metadata": {
        "colab": {
          "base_uri": "https://localhost:8080/"
        },
        "id": "m2VgmZwIj9qn",
        "outputId": "877f2bac-43a8-48d8-fd86-4484173c3444"
      },
      "execution_count": 70,
      "outputs": [
        {
          "output_type": "stream",
          "name": "stdout",
          "text": [
            "()\n",
            "()\n",
            "()\n"
          ]
        }
      ]
    },
    {
      "cell_type": "markdown",
      "source": [
        "Generating data with Numpy"
      ],
      "metadata": {
        "id": "7e4daNy2li1-"
      }
    },
    {
      "cell_type": "markdown",
      "source": [
        "np_empty()"
      ],
      "metadata": {
        "id": "GuaFPzQhm8mW"
      }
    },
    {
      "cell_type": "code",
      "source": [
        "import numpy as np\n",
        "array_empty = np.empty(shape = (2,3))\n",
        "array_empty"
      ],
      "metadata": {
        "colab": {
          "base_uri": "https://localhost:8080/"
        },
        "id": "8-5qe4w4k3nQ",
        "outputId": "ecbd73c7-3538-4826-91d8-7dbf07332687"
      },
      "execution_count": 76,
      "outputs": [
        {
          "output_type": "execute_result",
          "data": {
            "text/plain": [
              "array([[3.06905150e-316, 0.00000000e+000, 1.50008929e+248],\n",
              "       [1.50008929e+248, 5.95139232e+228, 3.12701935e-085]])"
            ]
          },
          "metadata": {},
          "execution_count": 76
        }
      ]
    },
    {
      "cell_type": "markdown",
      "source": [
        "np_Zeros()"
      ],
      "metadata": {
        "id": "PoyhK5PKnAi4"
      }
    },
    {
      "cell_type": "code",
      "source": [
        "array_zeros = np.zeros(shape = (6,2))\n",
        "array_zeros"
      ],
      "metadata": {
        "colab": {
          "base_uri": "https://localhost:8080/"
        },
        "id": "_6gRSI5AmMQE",
        "outputId": "3828acd9-b97b-4d90-e8a3-1edefc63bd08"
      },
      "execution_count": 84,
      "outputs": [
        {
          "output_type": "execute_result",
          "data": {
            "text/plain": [
              "array([[0., 0.],\n",
              "       [0., 0.],\n",
              "       [0., 0.],\n",
              "       [0., 0.],\n",
              "       [0., 0.],\n",
              "       [0., 0.]])"
            ]
          },
          "metadata": {},
          "execution_count": 84
        }
      ]
    },
    {
      "cell_type": "code",
      "source": [
        "array_zeros = np.zeros(shape = (6,2), dtype = np.int16)\n",
        "array_zeros"
      ],
      "metadata": {
        "colab": {
          "base_uri": "https://localhost:8080/"
        },
        "id": "uzBEdfVinayH",
        "outputId": "57f28de1-96ee-4a4d-afab-912262fb7475"
      },
      "execution_count": 85,
      "outputs": [
        {
          "output_type": "execute_result",
          "data": {
            "text/plain": [
              "array([[0, 0],\n",
              "       [0, 0],\n",
              "       [0, 0],\n",
              "       [0, 0],\n",
              "       [0, 0],\n",
              "       [0, 0]], dtype=int16)"
            ]
          },
          "metadata": {},
          "execution_count": 85
        }
      ]
    },
    {
      "cell_type": "markdown",
      "source": [
        "np_ones()"
      ],
      "metadata": {
        "id": "j4RD5RnYoM-E"
      }
    },
    {
      "cell_type": "code",
      "source": [
        "array_ones = np.ones(shape = (6,2), dtype = np.int16)\n",
        "array_ones"
      ],
      "metadata": {
        "colab": {
          "base_uri": "https://localhost:8080/"
        },
        "id": "wSIDSk31niPa",
        "outputId": "b38f0c04-9c03-40dd-ff98-950dfa8f3b2f"
      },
      "execution_count": 87,
      "outputs": [
        {
          "output_type": "execute_result",
          "data": {
            "text/plain": [
              "array([[1, 1],\n",
              "       [1, 1],\n",
              "       [1, 1],\n",
              "       [1, 1],\n",
              "       [1, 1],\n",
              "       [1, 1]], dtype=int16)"
            ]
          },
          "metadata": {},
          "execution_count": 87
        }
      ]
    },
    {
      "cell_type": "markdown",
      "source": [
        "np_full()"
      ],
      "metadata": {
        "id": "KpmwmA4-oQuc"
      }
    },
    {
      "cell_type": "code",
      "source": [
        "array_full = np.full(shape = (2,4), fill_value = 8)\n",
        "array_full"
      ],
      "metadata": {
        "colab": {
          "base_uri": "https://localhost:8080/"
        },
        "id": "-GHAhU4FoDM3",
        "outputId": "3c44815a-ec59-49bf-bf1f-40f06408d40e"
      },
      "execution_count": 89,
      "outputs": [
        {
          "output_type": "execute_result",
          "data": {
            "text/plain": [
              "array([[8, 8, 8, 8],\n",
              "       [8, 8, 8, 8]])"
            ]
          },
          "metadata": {},
          "execution_count": 89
        }
      ]
    },
    {
      "cell_type": "markdown",
      "source": [
        "like functions"
      ],
      "metadata": {
        "id": "3X03SNT3pExF"
      }
    },
    {
      "cell_type": "code",
      "source": [
        "array_h = np.array([[1,2,3,1,2],[3,4,3,2,1],[3,6,7,4,2]])\n",
        "array_h"
      ],
      "metadata": {
        "colab": {
          "base_uri": "https://localhost:8080/"
        },
        "id": "MBqwzAlyocXd",
        "outputId": "5994689f-c322-499f-b2c6-d46365d74f11"
      },
      "execution_count": 91,
      "outputs": [
        {
          "output_type": "execute_result",
          "data": {
            "text/plain": [
              "array([[1, 2, 3, 1, 2],\n",
              "       [3, 4, 3, 2, 1],\n",
              "       [3, 6, 7, 4, 2]])"
            ]
          },
          "metadata": {},
          "execution_count": 91
        }
      ]
    },
    {
      "cell_type": "code",
      "source": [
        "array_empty_like = np.empty_like(array_h)\n",
        "array_empty_like"
      ],
      "metadata": {
        "colab": {
          "base_uri": "https://localhost:8080/"
        },
        "id": "7FZ_0oJJpeyg",
        "outputId": "292a0098-4fa4-4090-a088-c82f28701ae0"
      },
      "execution_count": 92,
      "outputs": [
        {
          "output_type": "execute_result",
          "data": {
            "text/plain": [
              "array([[           88707337,                   0, 6998706448405521762,\n",
              "                         97,     138258510208224],\n",
              "       [    138258510208224, 2314885530818453536, 8316213867163312496,\n",
              "        7019260658645360928, 7288829957272510579],\n",
              "       [8318827349058480227, 7162257365610602612,  731680067765431919,\n",
              "                         10,                 160]])"
            ]
          },
          "metadata": {},
          "execution_count": 92
        }
      ]
    },
    {
      "cell_type": "code",
      "source": [
        "array_zeros_like = np.zeros_like(array_h)\n",
        "array_zeros_like"
      ],
      "metadata": {
        "colab": {
          "base_uri": "https://localhost:8080/"
        },
        "id": "pmyox6Aopmv5",
        "outputId": "b00d4782-4c6c-4f6d-95a2-9753215d4e36"
      },
      "execution_count": 93,
      "outputs": [
        {
          "output_type": "execute_result",
          "data": {
            "text/plain": [
              "array([[0, 0, 0, 0, 0],\n",
              "       [0, 0, 0, 0, 0],\n",
              "       [0, 0, 0, 0, 0]])"
            ]
          },
          "metadata": {},
          "execution_count": 93
        }
      ]
    },
    {
      "cell_type": "code",
      "source": [
        "array_ones_like = np.ones_like(array_h)\n",
        "array_ones_like"
      ],
      "metadata": {
        "colab": {
          "base_uri": "https://localhost:8080/"
        },
        "id": "1NkYV92YptsQ",
        "outputId": "87a55106-1ed6-455f-a469-8ffddcbd29d5"
      },
      "execution_count": 94,
      "outputs": [
        {
          "output_type": "execute_result",
          "data": {
            "text/plain": [
              "array([[1, 1, 1, 1, 1],\n",
              "       [1, 1, 1, 1, 1],\n",
              "       [1, 1, 1, 1, 1]])"
            ]
          },
          "metadata": {},
          "execution_count": 94
        }
      ]
    },
    {
      "cell_type": "code",
      "source": [
        "array_full_like = np.full_like(array_h, fill_value = 4)\n",
        "array_full_like"
      ],
      "metadata": {
        "colab": {
          "base_uri": "https://localhost:8080/"
        },
        "id": "yJ-nOrZ2p2K8",
        "outputId": "4e69df6d-319d-4290-a827-2adbc691545c"
      },
      "execution_count": 96,
      "outputs": [
        {
          "output_type": "execute_result",
          "data": {
            "text/plain": [
              "array([[4, 4, 4, 4, 4],\n",
              "       [4, 4, 4, 4, 4],\n",
              "       [4, 4, 4, 4, 4]])"
            ]
          },
          "metadata": {},
          "execution_count": 96
        }
      ]
    },
    {
      "cell_type": "markdown",
      "source": [
        "np.arange()"
      ],
      "metadata": {
        "id": "9l0oUYGwqr2R"
      }
    },
    {
      "cell_type": "code",
      "source": [
        "array_rng = np.arange(21)\n",
        "array_rng"
      ],
      "metadata": {
        "colab": {
          "base_uri": "https://localhost:8080/"
        },
        "id": "N2XdPqRep__O",
        "outputId": "bbdba6d7-e73f-41e5-a01d-d682b998e85c"
      },
      "execution_count": 100,
      "outputs": [
        {
          "output_type": "execute_result",
          "data": {
            "text/plain": [
              "array([ 0,  1,  2,  3,  4,  5,  6,  7,  8,  9, 10, 11, 12, 13, 14, 15, 16,\n",
              "       17, 18, 19, 20])"
            ]
          },
          "metadata": {},
          "execution_count": 100
        }
      ]
    },
    {
      "cell_type": "code",
      "source": [
        "array_rng = np.arange(start = 9 , stop = 10)\n",
        "array_rng"
      ],
      "metadata": {
        "colab": {
          "base_uri": "https://localhost:8080/"
        },
        "id": "enfKo-x0qws_",
        "outputId": "c24f1c0c-a065-4be8-ebf2-d6b0bb0d7bb6"
      },
      "execution_count": 105,
      "outputs": [
        {
          "output_type": "execute_result",
          "data": {
            "text/plain": [
              "array([9])"
            ]
          },
          "metadata": {},
          "execution_count": 105
        }
      ]
    },
    {
      "cell_type": "code",
      "source": [
        "array_rng = np.arange(start = 2 , stop = 16 , step = 5)\n",
        "array_rng"
      ],
      "metadata": {
        "colab": {
          "base_uri": "https://localhost:8080/"
        },
        "id": "OcDPXUvor1YS",
        "outputId": "8e3e50b7-2dca-4cc6-bab4-72bf76b176de"
      },
      "execution_count": 111,
      "outputs": [
        {
          "output_type": "execute_result",
          "data": {
            "text/plain": [
              "array([ 2,  7, 12])"
            ]
          },
          "metadata": {},
          "execution_count": 111
        }
      ]
    },
    {
      "cell_type": "code",
      "source": [
        "array_rng = np.arange(start = 4 , stop = 15, step = 4.75 , dtype = np.float16)\n",
        "array_rng"
      ],
      "metadata": {
        "colab": {
          "base_uri": "https://localhost:8080/"
        },
        "id": "wD1Ho1NesIo8",
        "outputId": "74cc7cd1-85f4-491b-8a73-c813f6c23acf"
      },
      "execution_count": 116,
      "outputs": [
        {
          "output_type": "execute_result",
          "data": {
            "text/plain": [
              "array([ 4.  ,  8.75, 13.5 ], dtype=float16)"
            ]
          },
          "metadata": {},
          "execution_count": 116
        }
      ]
    },
    {
      "cell_type": "code",
      "source": [],
      "metadata": {
        "id": "ppGH_TZMsrgC"
      },
      "execution_count": null,
      "outputs": []
    }
  ]
}