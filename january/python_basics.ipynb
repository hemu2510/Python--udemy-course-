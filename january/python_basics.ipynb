{
  "nbformat": 4,
  "nbformat_minor": 0,
  "metadata": {
    "colab": {
      "provenance": [],
      "authorship_tag": "ABX9TyNhPOnQ5KapWNaDozyYqG/M",
      "include_colab_link": true
    },
    "kernelspec": {
      "name": "python3",
      "display_name": "Python 3"
    },
    "language_info": {
      "name": "python"
    }
  },
  "cells": [
    {
      "cell_type": "markdown",
      "metadata": {
        "id": "view-in-github",
        "colab_type": "text"
      },
      "source": [
        "<a href=\"https://colab.research.google.com/github/hemu2510/Python--udemy-course-/blob/main/january/python_basics.ipynb\" target=\"_parent\"><img src=\"https://colab.research.google.com/assets/colab-badge.svg\" alt=\"Open In Colab\"/></a>"
      ]
    },
    {
      "cell_type": "markdown",
      "source": [
        "Python Variables"
      ],
      "metadata": {
        "id": "NupjyzNqANJY"
      }
    },
    {
      "cell_type": "code",
      "execution_count": 1,
      "metadata": {
        "colab": {
          "base_uri": "https://localhost:8080/"
        },
        "id": "Lbv2GSlMADOk",
        "outputId": "f5c861ad-703d-41a6-a964-639574759569"
      },
      "outputs": [
        {
          "output_type": "execute_result",
          "data": {
            "text/plain": [
              "10"
            ]
          },
          "metadata": {},
          "execution_count": 1
        }
      ],
      "source": [
        "x = 10\n",
        "x"
      ]
    },
    {
      "cell_type": "code",
      "source": [
        "x=10\n",
        "print(x)"
      ],
      "metadata": {
        "colab": {
          "base_uri": "https://localhost:8080/"
        },
        "id": "rs5fo-9kAQ2U",
        "outputId": "f9d600fd-efc0-4d93-e7d9-88ab959ab03f"
      },
      "execution_count": 2,
      "outputs": [
        {
          "output_type": "stream",
          "name": "stdout",
          "text": [
            "10\n"
          ]
        }
      ]
    },
    {
      "cell_type": "code",
      "source": [
        "a, b, c, d = (10, 20, 30, 40)"
      ],
      "metadata": {
        "id": "1YqdTAtLAUGc"
      },
      "execution_count": 3,
      "outputs": []
    },
    {
      "cell_type": "code",
      "source": [
        "a, b, c, d = (10, 20, 30, 40)\n",
        "print(b)\n",
        "print(d)"
      ],
      "metadata": {
        "colab": {
          "base_uri": "https://localhost:8080/"
        },
        "id": "P6uSM3voAXea",
        "outputId": "407e93bc-b24b-4687-ff1e-3570d427ad6f"
      },
      "execution_count": 4,
      "outputs": [
        {
          "output_type": "stream",
          "name": "stdout",
          "text": [
            "20\n",
            "40\n"
          ]
        }
      ]
    },
    {
      "cell_type": "markdown",
      "source": [
        "python variables"
      ],
      "metadata": {
        "id": "3KINYDH-Ae68"
      }
    },
    {
      "cell_type": "code",
      "source": [
        "a = True\n",
        "print(type(a))"
      ],
      "metadata": {
        "colab": {
          "base_uri": "https://localhost:8080/"
        },
        "id": "FdL6uUcXAa0h",
        "outputId": "067e7437-3124-45ee-a90c-1c08567be0d3"
      },
      "execution_count": 5,
      "outputs": [
        {
          "output_type": "stream",
          "name": "stdout",
          "text": [
            "<class 'bool'>\n"
          ]
        }
      ]
    },
    {
      "cell_type": "code",
      "source": [
        "b = 99\n",
        "print(type(b))"
      ],
      "metadata": {
        "colab": {
          "base_uri": "https://localhost:8080/"
        },
        "id": "1-DC6dD8Ai-W",
        "outputId": "e314cfa9-33f4-40f9-c6df-b1a9c15afa14"
      },
      "execution_count": 6,
      "outputs": [
        {
          "output_type": "stream",
          "name": "stdout",
          "text": [
            "<class 'int'>\n"
          ]
        }
      ]
    },
    {
      "cell_type": "code",
      "source": [
        "type(0.99)"
      ],
      "metadata": {
        "colab": {
          "base_uri": "https://localhost:8080/"
        },
        "id": "-0__K9d0Anzr",
        "outputId": "41e18c40-352e-449c-c5ad-7b2fb787e8af"
      },
      "execution_count": 7,
      "outputs": [
        {
          "output_type": "execute_result",
          "data": {
            "text/plain": [
              "float"
            ]
          },
          "metadata": {},
          "execution_count": 7
        }
      ]
    },
    {
      "cell_type": "code",
      "source": [
        "a = 0.99\n",
        "a = int(0.99)\n",
        "print(a)"
      ],
      "metadata": {
        "colab": {
          "base_uri": "https://localhost:8080/"
        },
        "id": "YQpuBqqqArLl",
        "outputId": "899fef04-bce0-47da-ba68-af7667639d37"
      },
      "execution_count": 8,
      "outputs": [
        {
          "output_type": "stream",
          "name": "stdout",
          "text": [
            "0\n"
          ]
        }
      ]
    },
    {
      "cell_type": "markdown",
      "source": [
        "Strings"
      ],
      "metadata": {
        "id": "CHn_6-nhAwKW"
      }
    },
    {
      "cell_type": "code",
      "source": [
        "m = 100\n",
        "print(f\"{m} days\")"
      ],
      "metadata": {
        "colab": {
          "base_uri": "https://localhost:8080/"
        },
        "id": "cVt4rsmKAuRm",
        "outputId": "6bebe3f9-a33a-415a-e38b-cf4a72f879bd"
      },
      "execution_count": 9,
      "outputs": [
        {
          "output_type": "stream",
          "name": "stdout",
          "text": [
            "100 days\n"
          ]
        }
      ]
    },
    {
      "cell_type": "code",
      "source": [
        "a =\"It's cool, isn't it?\"\n",
        "print(a)"
      ],
      "metadata": {
        "colab": {
          "base_uri": "https://localhost:8080/"
        },
        "id": "HOM2WBHBAzLM",
        "outputId": "91cc23f8-f12c-4ff0-a158-589f23aac9cd"
      },
      "execution_count": 10,
      "outputs": [
        {
          "output_type": "stream",
          "name": "stdout",
          "text": [
            "It's cool, isn't it?\n"
          ]
        }
      ]
    },
    {
      "cell_type": "markdown",
      "source": [
        "Arthmetic operators"
      ],
      "metadata": {
        "id": "cxVCDq5aA90l"
      }
    },
    {
      "cell_type": "code",
      "source": [
        "15 + 23"
      ],
      "metadata": {
        "colab": {
          "base_uri": "https://localhost:8080/"
        },
        "id": "T_p9ZQUIA2iN",
        "outputId": "efc89120-d0f4-489d-94ba-9eff230a5aa1"
      },
      "execution_count": 11,
      "outputs": [
        {
          "output_type": "execute_result",
          "data": {
            "text/plain": [
              "38"
            ]
          },
          "metadata": {},
          "execution_count": 11
        }
      ]
    },
    {
      "cell_type": "code",
      "source": [
        "26 - 50"
      ],
      "metadata": {
        "colab": {
          "base_uri": "https://localhost:8080/"
        },
        "id": "7j5TlFKZBDB4",
        "outputId": "bc358988-2420-416a-91f3-37444f44f54b"
      },
      "execution_count": 12,
      "outputs": [
        {
          "output_type": "execute_result",
          "data": {
            "text/plain": [
              "-24"
            ]
          },
          "metadata": {},
          "execution_count": 12
        }
      ]
    },
    {
      "cell_type": "code",
      "source": [
        "20 / 4"
      ],
      "metadata": {
        "colab": {
          "base_uri": "https://localhost:8080/"
        },
        "id": "oaRSkLKJBGKX",
        "outputId": "1cd3e560-1b78-43e3-e5d3-dbb8a52ea404"
      },
      "execution_count": 13,
      "outputs": [
        {
          "output_type": "execute_result",
          "data": {
            "text/plain": [
              "5.0"
            ]
          },
          "metadata": {},
          "execution_count": 13
        }
      ]
    },
    {
      "cell_type": "code",
      "source": [
        "float(22) / 4"
      ],
      "metadata": {
        "colab": {
          "base_uri": "https://localhost:8080/"
        },
        "id": "JxhmHqZZBJz0",
        "outputId": "f4199f78-d716-47ec-98c5-5da3a99bec53"
      },
      "execution_count": 14,
      "outputs": [
        {
          "output_type": "execute_result",
          "data": {
            "text/plain": [
              "5.5"
            ]
          },
          "metadata": {},
          "execution_count": 14
        }
      ]
    },
    {
      "cell_type": "code",
      "source": [
        "15 ** 2"
      ],
      "metadata": {
        "colab": {
          "base_uri": "https://localhost:8080/"
        },
        "id": "OVW4_lMsBQO3",
        "outputId": "6a463238-f416-41a9-ea22-7322fa51820c"
      },
      "execution_count": 15,
      "outputs": [
        {
          "output_type": "execute_result",
          "data": {
            "text/plain": [
              "225"
            ]
          },
          "metadata": {},
          "execution_count": 15
        }
      ]
    },
    {
      "cell_type": "markdown",
      "source": [
        "Reassigns Values"
      ],
      "metadata": {
        "id": "_O4JoiSfBWRi"
      }
    },
    {
      "cell_type": "code",
      "source": [
        "p = 14"
      ],
      "metadata": {
        "id": "4_4yj8b1BTyy"
      },
      "execution_count": 16,
      "outputs": []
    },
    {
      "cell_type": "markdown",
      "source": [
        "indexing Elements"
      ],
      "metadata": {
        "id": "ulFYLU1DBiPF"
      }
    },
    {
      "cell_type": "code",
      "source": [
        "\"Bingo!\"[0]"
      ],
      "metadata": {
        "colab": {
          "base_uri": "https://localhost:8080/",
          "height": 36
        },
        "id": "El5-zl7WBawN",
        "outputId": "81fe75fd-c8a3-463e-8c6b-e6cff64ba3ea"
      },
      "execution_count": 17,
      "outputs": [
        {
          "output_type": "execute_result",
          "data": {
            "text/plain": [
              "'B'"
            ],
            "application/vnd.google.colaboratory.intrinsic+json": {
              "type": "string"
            }
          },
          "metadata": {},
          "execution_count": 17
        }
      ]
    },
    {
      "cell_type": "code",
      "source": [
        "\"Constitution\"[7]"
      ],
      "metadata": {
        "colab": {
          "base_uri": "https://localhost:8080/",
          "height": 36
        },
        "id": "8K583rQeBlt-",
        "outputId": "2bda5fc9-d6c5-48e6-9734-4ea9f7da11ac"
      },
      "execution_count": 18,
      "outputs": [
        {
          "output_type": "execute_result",
          "data": {
            "text/plain": [
              "'u'"
            ],
            "application/vnd.google.colaboratory.intrinsic+json": {
              "type": "string"
            }
          },
          "metadata": {},
          "execution_count": 18
        }
      ]
    },
    {
      "cell_type": "markdown",
      "source": [
        "Comparsion-Operators"
      ],
      "metadata": {
        "id": "ap5P4e3HB5gx"
      }
    },
    {
      "cell_type": "code",
      "source": [
        "25 < 30"
      ],
      "metadata": {
        "colab": {
          "base_uri": "https://localhost:8080/"
        },
        "id": "GX2vReh8Bp1d",
        "outputId": "6c5e6285-ba02-494f-a9a9-2982f5e07bd6"
      },
      "execution_count": 19,
      "outputs": [
        {
          "output_type": "execute_result",
          "data": {
            "text/plain": [
              "True"
            ]
          },
          "metadata": {},
          "execution_count": 19
        }
      ]
    },
    {
      "cell_type": "code",
      "source": [
        "5 * 3 <= 5 ** 3"
      ],
      "metadata": {
        "colab": {
          "base_uri": "https://localhost:8080/"
        },
        "id": "8XAzLnK8B_oL",
        "outputId": "05c9ea1c-7c1d-44d2-f838-29bff29b6a3a"
      },
      "execution_count": 20,
      "outputs": [
        {
          "output_type": "execute_result",
          "data": {
            "text/plain": [
              "True"
            ]
          },
          "metadata": {},
          "execution_count": 20
        }
      ]
    },
    {
      "cell_type": "code",
      "source": [
        "100 == 10 ** 2"
      ],
      "metadata": {
        "colab": {
          "base_uri": "https://localhost:8080/"
        },
        "id": "TPNrdA48CDn4",
        "outputId": "c4009360-985d-4603-ff2c-f700d4a15bde"
      },
      "execution_count": 21,
      "outputs": [
        {
          "output_type": "execute_result",
          "data": {
            "text/plain": [
              "True"
            ]
          },
          "metadata": {},
          "execution_count": 21
        }
      ]
    },
    {
      "cell_type": "code",
      "source": [
        "53 != 46"
      ],
      "metadata": {
        "colab": {
          "base_uri": "https://localhost:8080/"
        },
        "id": "okRMj2Z9CHGS",
        "outputId": "c32b9905-b3ca-4e02-b79f-83d475efdb34"
      },
      "execution_count": 22,
      "outputs": [
        {
          "output_type": "execute_result",
          "data": {
            "text/plain": [
              "True"
            ]
          },
          "metadata": {},
          "execution_count": 22
        }
      ]
    },
    {
      "cell_type": "markdown",
      "source": [
        "Logical and identity Operators"
      ],
      "metadata": {
        "id": "ZFdeuSxPCXQY"
      }
    },
    {
      "cell_type": "code",
      "source": [
        "False and True or False"
      ],
      "metadata": {
        "colab": {
          "base_uri": "https://localhost:8080/"
        },
        "id": "7xwp6OldCU-y",
        "outputId": "516619e9-1ba4-4f50-9f20-6168d7df1f86"
      },
      "execution_count": 23,
      "outputs": [
        {
          "output_type": "execute_result",
          "data": {
            "text/plain": [
              "False"
            ]
          },
          "metadata": {},
          "execution_count": 23
        }
      ]
    },
    {
      "cell_type": "code",
      "source": [
        "False or not True and not False"
      ],
      "metadata": {
        "colab": {
          "base_uri": "https://localhost:8080/"
        },
        "id": "Wr7XnCQSCmUU",
        "outputId": "a507e134-021a-4ea2-c42c-ef7e613a8d6d"
      },
      "execution_count": 24,
      "outputs": [
        {
          "output_type": "execute_result",
          "data": {
            "text/plain": [
              "False"
            ]
          },
          "metadata": {},
          "execution_count": 24
        }
      ]
    },
    {
      "cell_type": "code",
      "source": [
        "True and not False and True or not False"
      ],
      "metadata": {
        "colab": {
          "base_uri": "https://localhost:8080/"
        },
        "id": "SEgrmwYECqSr",
        "outputId": "96e193b9-55e6-4301-a8a3-8f9836a9d2a0"
      },
      "execution_count": 25,
      "outputs": [
        {
          "output_type": "execute_result",
          "data": {
            "text/plain": [
              "True"
            ]
          },
          "metadata": {},
          "execution_count": 25
        }
      ]
    },
    {
      "cell_type": "code",
      "source": [
        "50 is 50"
      ],
      "metadata": {
        "colab": {
          "base_uri": "https://localhost:8080/"
        },
        "id": "S1v5HCkoCurG",
        "outputId": "79f857b7-309d-4e1e-fa82-e188b4215153"
      },
      "execution_count": 26,
      "outputs": [
        {
          "output_type": "stream",
          "name": "stderr",
          "text": [
            "<>:1: SyntaxWarning: \"is\" with a literal. Did you mean \"==\"?\n",
            "<>:1: SyntaxWarning: \"is\" with a literal. Did you mean \"==\"?\n",
            "<ipython-input-26-f043382cab37>:1: SyntaxWarning: \"is\" with a literal. Did you mean \"==\"?\n",
            "  50 is 50\n"
          ]
        },
        {
          "output_type": "execute_result",
          "data": {
            "text/plain": [
              "True"
            ]
          },
          "metadata": {},
          "execution_count": 26
        }
      ]
    },
    {
      "cell_type": "markdown",
      "source": [
        "if conditions"
      ],
      "metadata": {
        "id": "1N2DcjwZC1RB"
      }
    },
    {
      "cell_type": "code",
      "source": [
        "if 5>2:\n",
        "    print(\"The condition has been satisfied\")"
      ],
      "metadata": {
        "colab": {
          "base_uri": "https://localhost:8080/"
        },
        "id": "AlKBMb0KCyZ-",
        "outputId": "277bbb1e-13b0-4b3c-c1d3-6ebd45cb58fb"
      },
      "execution_count": 27,
      "outputs": [
        {
          "output_type": "stream",
          "name": "stdout",
          "text": [
            "The condition has been satisfied\n"
          ]
        }
      ]
    },
    {
      "cell_type": "code",
      "source": [
        "x = 10\n",
        "y = 25\n",
        "if x>3 and y>13:\n",
        "    print(\"Both conditions are correct\")\n",
        "if x<=3 or y<=13:\n",
        "    print(\"At least one of the conditions is false\")\n",
        "\n",
        "x = 10\n",
        "y = 32\n",
        "if x>3 and y>13:\n",
        "    print(\"Both conditions are correct\")\n",
        "if x<=3 or y<=13:\n",
        "    print(\"At least one of the conditions is false\")"
      ],
      "metadata": {
        "colab": {
          "base_uri": "https://localhost:8080/"
        },
        "id": "OF4V8z5AC7gM",
        "outputId": "7797d950-f00b-4366-ab62-f17c5f90ff06"
      },
      "execution_count": 28,
      "outputs": [
        {
          "output_type": "stream",
          "name": "stdout",
          "text": [
            "Both conditions are correct\n",
            "Both conditions are correct\n"
          ]
        }
      ]
    },
    {
      "cell_type": "markdown",
      "source": [
        "else condition"
      ],
      "metadata": {
        "id": "705Vf4z4DDCQ"
      }
    },
    {
      "cell_type": "code",
      "source": [
        "x = 19\n",
        "if x > 100:\n",
        "    print(\"A busy day\")\n",
        "else:\n",
        "    print(\"A calm day\")"
      ],
      "metadata": {
        "colab": {
          "base_uri": "https://localhost:8080/"
        },
        "id": "Lgj4h-dhC_uk",
        "outputId": "4449f0a8-ab0f-4338-a13f-f71f39232ddd"
      },
      "execution_count": 29,
      "outputs": [
        {
          "output_type": "stream",
          "name": "stdout",
          "text": [
            "A calm day\n"
          ]
        }
      ]
    },
    {
      "cell_type": "markdown",
      "source": [
        "elif condition"
      ],
      "metadata": {
        "id": "I0mS1UNtDO_6"
      }
    },
    {
      "cell_type": "code",
      "source": [
        "x = 250\n",
        "if x > 200:\n",
        "    print (\"Big\")\n",
        "elif x > 100 and x <= 200:\n",
        "    print (\"Average\")\n",
        "else:\n",
        "    print (\"Small\")"
      ],
      "metadata": {
        "colab": {
          "base_uri": "https://localhost:8080/"
        },
        "id": "Mj9MDYxeDIWX",
        "outputId": "d8cffa21-1284-49c2-843d-3c4ea2d1d127"
      },
      "execution_count": 30,
      "outputs": [
        {
          "output_type": "stream",
          "name": "stdout",
          "text": [
            "Big\n"
          ]
        }
      ]
    },
    {
      "cell_type": "code",
      "source": [
        "x = 200\n",
        "\n",
        "if x > 200:\n",
        "    print (\"Big\")\n",
        "elif x > 100 and x <= 200:\n",
        "    print (\"Average\")\n",
        "elif x >= 0 and x <= 100:\n",
        "    print(\"Small\")\n",
        "else:\n",
        "    print(\"Negative\")"
      ],
      "metadata": {
        "colab": {
          "base_uri": "https://localhost:8080/"
        },
        "id": "MERbC_4FDS6M",
        "outputId": "1b6aff38-a50b-4a3b-f512-570953ba2b19"
      },
      "execution_count": 31,
      "outputs": [
        {
          "output_type": "stream",
          "name": "stdout",
          "text": [
            "Average\n"
          ]
        }
      ]
    },
    {
      "cell_type": "markdown",
      "source": [
        "Functions"
      ],
      "metadata": {
        "id": "qDT1fwahDe80"
      }
    },
    {
      "cell_type": "code",
      "source": [
        "def multiplication_by_2(x):\n",
        "    return x * 2"
      ],
      "metadata": {
        "id": "tJ280zbMDW2g"
      },
      "execution_count": 32,
      "outputs": []
    },
    {
      "cell_type": "code",
      "source": [
        "def division_by_2(x):\n",
        "    return float(x) / 2"
      ],
      "metadata": {
        "id": "NGVIu4UVDiMB"
      },
      "execution_count": 33,
      "outputs": []
    },
    {
      "cell_type": "markdown",
      "source": [
        "function with conditional statement"
      ],
      "metadata": {
        "id": "K0FGVeSJDzDa"
      }
    },
    {
      "cell_type": "code",
      "source": [
        "def compare_the_two(x, y):\n",
        "    if x > y:\n",
        "        print(\"Greater\")\n",
        "    elif y > x:\n",
        "        print(\"Less\")\n",
        "    else:\n",
        "        print(\"Equal\")"
      ],
      "metadata": {
        "id": "ql6UTPsvDljn"
      },
      "execution_count": 34,
      "outputs": []
    },
    {
      "cell_type": "markdown",
      "source": [
        "Built-in Functions"
      ],
      "metadata": {
        "id": "Gf7QhzSxD7vz"
      }
    },
    {
      "cell_type": "code",
      "source": [
        "max(25, 65, 890, 15)"
      ],
      "metadata": {
        "colab": {
          "base_uri": "https://localhost:8080/"
        },
        "id": "FjG3ogTkD4T0",
        "outputId": "8e94be64-8c63-4406-bc2e-0ba841c9cebb"
      },
      "execution_count": 35,
      "outputs": [
        {
          "output_type": "execute_result",
          "data": {
            "text/plain": [
              "890"
            ]
          },
          "metadata": {},
          "execution_count": 35
        }
      ]
    },
    {
      "cell_type": "code",
      "source": [
        "min(25, 65, 890,15)"
      ],
      "metadata": {
        "colab": {
          "base_uri": "https://localhost:8080/"
        },
        "id": "raO7LZ4FEBCc",
        "outputId": "f9f2477c-0b45-46f2-dc65-babb37751b7c"
      },
      "execution_count": 36,
      "outputs": [
        {
          "output_type": "execute_result",
          "data": {
            "text/plain": [
              "15"
            ]
          },
          "metadata": {},
          "execution_count": 36
        }
      ]
    },
    {
      "cell_type": "code",
      "source": [
        "abs(-100)"
      ],
      "metadata": {
        "colab": {
          "base_uri": "https://localhost:8080/"
        },
        "id": "JFRboqu9EELK",
        "outputId": "33b707e9-c427-4d97-fca6-07f80847d55d"
      },
      "execution_count": 37,
      "outputs": [
        {
          "output_type": "execute_result",
          "data": {
            "text/plain": [
              "100"
            ]
          },
          "metadata": {},
          "execution_count": 37
        }
      ]
    },
    {
      "cell_type": "code",
      "source": [
        "round(55.5)"
      ],
      "metadata": {
        "colab": {
          "base_uri": "https://localhost:8080/"
        },
        "id": "bio5Wc52EHFP",
        "outputId": "622cee80-1e7a-400c-ab37-1f2ea63aa708"
      },
      "execution_count": 38,
      "outputs": [
        {
          "output_type": "execute_result",
          "data": {
            "text/plain": [
              "56"
            ]
          },
          "metadata": {},
          "execution_count": 38
        }
      ]
    },
    {
      "cell_type": "code",
      "source": [
        "round(35.56789, 3)"
      ],
      "metadata": {
        "colab": {
          "base_uri": "https://localhost:8080/"
        },
        "id": "uWAuuIk-EKkp",
        "outputId": "3406cc43-5b98-44b6-fd67-89d66bda5024"
      },
      "execution_count": 39,
      "outputs": [
        {
          "output_type": "execute_result",
          "data": {
            "text/plain": [
              "35.568"
            ]
          },
          "metadata": {},
          "execution_count": 39
        }
      ]
    },
    {
      "cell_type": "code",
      "source": [
        "len(\"Elephant\")"
      ],
      "metadata": {
        "colab": {
          "base_uri": "https://localhost:8080/"
        },
        "id": "yUMu0wY1EOBl",
        "outputId": "cafe520e-9081-4174-e13e-25884429703b"
      },
      "execution_count": 40,
      "outputs": [
        {
          "output_type": "execute_result",
          "data": {
            "text/plain": [
              "8"
            ]
          },
          "metadata": {},
          "execution_count": 40
        }
      ]
    },
    {
      "cell_type": "markdown",
      "source": [
        "Lists"
      ],
      "metadata": {
        "id": "EZQnq0ryEdWU"
      }
    },
    {
      "cell_type": "code",
      "source": [
        "Numbers = [10,25,40,50]\n",
        "print(Numbers[2])"
      ],
      "metadata": {
        "colab": {
          "base_uri": "https://localhost:8080/"
        },
        "id": "pSsg-YvZEbSN",
        "outputId": "0a6c47ae-3420-40ac-da59-77ce2d24c994"
      },
      "execution_count": 41,
      "outputs": [
        {
          "output_type": "stream",
          "name": "stdout",
          "text": [
            "40\n"
          ]
        }
      ]
    },
    {
      "cell_type": "code",
      "source": [
        "Numbers = [10, 25, 40, 50]\n",
        "print(Numbers[0])"
      ],
      "metadata": {
        "colab": {
          "base_uri": "https://localhost:8080/"
        },
        "id": "bpcxVwU3Eg8E",
        "outputId": "1b0c5919-8691-4514-b4b8-6c6476df5647"
      },
      "execution_count": 42,
      "outputs": [
        {
          "output_type": "stream",
          "name": "stdout",
          "text": [
            "10\n"
          ]
        }
      ]
    },
    {
      "cell_type": "code",
      "source": [
        "Numbers = [10, 25, 40, 50]\n",
        "print(Numbers[-3])"
      ],
      "metadata": {
        "colab": {
          "base_uri": "https://localhost:8080/"
        },
        "id": "yTIrUd7vEkEK",
        "outputId": "71db5a46-7e7f-4ab0-b0b7-da53f4af83d4"
      },
      "execution_count": 43,
      "outputs": [
        {
          "output_type": "stream",
          "name": "stdout",
          "text": [
            "25\n"
          ]
        }
      ]
    },
    {
      "cell_type": "code",
      "source": [
        "Numbers = [10, 25, 40, 50]\n",
        "Numbers[Numbers.index(10)] = 15\n",
        "print(Numbers)"
      ],
      "metadata": {
        "colab": {
          "base_uri": "https://localhost:8080/"
        },
        "id": "ipbQ7yn8EmzC",
        "outputId": "4c79e166-400f-4168-a49c-b0f1d9ffe35d"
      },
      "execution_count": 45,
      "outputs": [
        {
          "output_type": "stream",
          "name": "stdout",
          "text": [
            "[15, 25, 40, 50]\n"
          ]
        }
      ]
    },
    {
      "cell_type": "code",
      "source": [
        "Numbers = [10, 25, 40, 50]\n",
        "Numbers.remove(25)\n",
        "print(Numbers)"
      ],
      "metadata": {
        "colab": {
          "base_uri": "https://localhost:8080/"
        },
        "id": "gCj-LS-YEp9o",
        "outputId": "ff5571dd-9ec4-40be-a447-8481c6dcd4e0"
      },
      "execution_count": 46,
      "outputs": [
        {
          "output_type": "stream",
          "name": "stdout",
          "text": [
            "[10, 40, 50]\n"
          ]
        }
      ]
    },
    {
      "cell_type": "markdown",
      "source": [
        "using methods()"
      ],
      "metadata": {
        "id": "CczKoPSQE4EU"
      }
    },
    {
      "cell_type": "code",
      "source": [
        "Numbers = [15, 40, 50]\n",
        "Numbers.append(100)\n",
        "print(Numbers)"
      ],
      "metadata": {
        "colab": {
          "base_uri": "https://localhost:8080/"
        },
        "id": "1DOXk9kWEycq",
        "outputId": "32c05e0b-57f3-475a-9ed7-bce359c38714"
      },
      "execution_count": 47,
      "outputs": [
        {
          "output_type": "stream",
          "name": "stdout",
          "text": [
            "[15, 40, 50, 100]\n"
          ]
        }
      ]
    },
    {
      "cell_type": "code",
      "source": [
        "Numbers = [15, 40, 50, 100]\n",
        "Numbers.extend([115, 140])\n",
        "print(Numbers)\n",
        "\n"
      ],
      "metadata": {
        "colab": {
          "base_uri": "https://localhost:8080/"
        },
        "id": "bUblayueE77F",
        "outputId": "ef0e14db-0fa9-4c60-ee96-14a0b224c261"
      },
      "execution_count": 48,
      "outputs": [
        {
          "output_type": "stream",
          "name": "stdout",
          "text": [
            "[15, 40, 50, 100, 115, 140]\n"
          ]
        }
      ]
    },
    {
      "cell_type": "code",
      "source": [
        "Numbers = [15, 40, 50, 100, 115, 140]\n",
        "print(f'The fourth element of the list is,{Numbers[3]}')"
      ],
      "metadata": {
        "colab": {
          "base_uri": "https://localhost:8080/"
        },
        "id": "3j0vWxR-E-5x",
        "outputId": "fb6eede7-20e9-4334-a806-2419b3ee13cb"
      },
      "execution_count": 49,
      "outputs": [
        {
          "output_type": "stream",
          "name": "stdout",
          "text": [
            "The fourth element of the list is,100\n"
          ]
        }
      ]
    },
    {
      "cell_type": "code",
      "source": [
        "Numbers = [15, 40, 50, 100, 115, 140]\n",
        "print(len(Numbers))"
      ],
      "metadata": {
        "colab": {
          "base_uri": "https://localhost:8080/"
        },
        "id": "_jGyDYJdFFFx",
        "outputId": "7704abc7-6a15-45e8-f24c-c4447dc94cee"
      },
      "execution_count": 50,
      "outputs": [
        {
          "output_type": "stream",
          "name": "stdout",
          "text": [
            "6\n"
          ]
        }
      ]
    },
    {
      "cell_type": "markdown",
      "source": [
        "List Slicing"
      ],
      "metadata": {
        "id": "64kmkOmwFKf6"
      }
    },
    {
      "cell_type": "code",
      "source": [
        "Numbers = [15, 40, 50, 100, 115, 140]\n",
        "print(Numbers[3:5])"
      ],
      "metadata": {
        "colab": {
          "base_uri": "https://localhost:8080/"
        },
        "id": "iU434ayZFIJ0",
        "outputId": "91131717-f48c-4eb0-a848-4fbaa08726bd"
      },
      "execution_count": 51,
      "outputs": [
        {
          "output_type": "stream",
          "name": "stdout",
          "text": [
            "[100, 115]\n"
          ]
        }
      ]
    },
    {
      "cell_type": "code",
      "source": [
        "Numbers = [15, 40, 50, 100, 115, 140]\n",
        "print(Numbers[:4])"
      ],
      "metadata": {
        "colab": {
          "base_uri": "https://localhost:8080/"
        },
        "id": "M__96DG1FOkQ",
        "outputId": "882717c7-90f6-4281-a26b-bbbeeef5493d"
      },
      "execution_count": 52,
      "outputs": [
        {
          "output_type": "stream",
          "name": "stdout",
          "text": [
            "[15, 40, 50, 100]\n"
          ]
        }
      ]
    },
    {
      "cell_type": "code",
      "source": [
        "Numbers = [15, 40, 50, 100, 115, 140]\n",
        "print(Numbers[2:])"
      ],
      "metadata": {
        "colab": {
          "base_uri": "https://localhost:8080/"
        },
        "id": "fXvJ2OEGFRaH",
        "outputId": "058aa56d-980b-46cf-d0ec-b19b598cebdc"
      },
      "execution_count": 53,
      "outputs": [
        {
          "output_type": "stream",
          "name": "stdout",
          "text": [
            "[50, 100, 115, 140]\n"
          ]
        }
      ]
    },
    {
      "cell_type": "code",
      "source": [
        "Numbers = [15, 40, 50, 100, 115, 140]\n",
        "print(Numbers[-4:])"
      ],
      "metadata": {
        "colab": {
          "base_uri": "https://localhost:8080/"
        },
        "id": "e1n_xNiGFUW4",
        "outputId": "b00380f9-f7c8-4ddd-d6ea-b3fbedec4147"
      },
      "execution_count": 54,
      "outputs": [
        {
          "output_type": "stream",
          "name": "stdout",
          "text": [
            "[50, 100, 115, 140]\n"
          ]
        }
      ]
    },
    {
      "cell_type": "code",
      "source": [
        "Numbers = [15, 40, 50, 100, 115, 140]\n",
        "Numbers.index(15)"
      ],
      "metadata": {
        "colab": {
          "base_uri": "https://localhost:8080/"
        },
        "id": "jUo3FC6fFXPP",
        "outputId": "f35ee753-9efd-4f6e-cdf6-1e4946db422c"
      },
      "execution_count": 56,
      "outputs": [
        {
          "output_type": "execute_result",
          "data": {
            "text/plain": [
              "0"
            ]
          },
          "metadata": {},
          "execution_count": 56
        }
      ]
    },
    {
      "cell_type": "code",
      "source": [
        "Numbers = [15, 40, 50, 100, 115, 140]\n",
        "Two_Numbers = [1, 2]\n",
        "All_Numbers = []\n",
        "All_Numbers.append(Two_Numbers)\n",
        "All_Numbers.append(Numbers)\n",
        "print(All_Numbers)"
      ],
      "metadata": {
        "colab": {
          "base_uri": "https://localhost:8080/"
        },
        "id": "JGsqxH1WFZ2q",
        "outputId": "323cf878-ba2c-4412-83d3-9ef50059b7c8"
      },
      "execution_count": 57,
      "outputs": [
        {
          "output_type": "stream",
          "name": "stdout",
          "text": [
            "[[1, 2], [15, 40, 50, 100, 115, 140]]\n"
          ]
        }
      ]
    },
    {
      "cell_type": "code",
      "source": [
        "Numbers = [15, 40, 50, 100, 115, 140]\n",
        "Numbers.sort(reverse=True)\n",
        "print(Numbers)"
      ],
      "metadata": {
        "colab": {
          "base_uri": "https://localhost:8080/"
        },
        "id": "hWV1VLdnFnEs",
        "outputId": "69ad9221-0a23-4c14-8fca-26fa4c1cfaf7"
      },
      "execution_count": 58,
      "outputs": [
        {
          "output_type": "stream",
          "name": "stdout",
          "text": [
            "[140, 115, 100, 50, 40, 15]\n"
          ]
        }
      ]
    },
    {
      "cell_type": "markdown",
      "source": [
        "Truples"
      ],
      "metadata": {
        "id": "B7QmxMbRFvWX"
      }
    },
    {
      "cell_type": "code",
      "source": [
        "Cars = (\"BMW\", \"Dodge\", \"Ford\")"
      ],
      "metadata": {
        "id": "34wpj2waFqre"
      },
      "execution_count": 59,
      "outputs": []
    },
    {
      "cell_type": "code",
      "source": [
        "Cars = (\"BMW\", \"Dodge\", \"Ford\")\n",
        "Second_car = Cars[1]\n",
        "print(Second_car)"
      ],
      "metadata": {
        "colab": {
          "base_uri": "https://localhost:8080/"
        },
        "id": "WyUIZUw9FyCx",
        "outputId": "b46fec0d-87dd-484c-c343-bed7d89fbfe4"
      },
      "execution_count": 60,
      "outputs": [
        {
          "output_type": "stream",
          "name": "stdout",
          "text": [
            "Dodge\n"
          ]
        }
      ]
    },
    {
      "cell_type": "code",
      "source": [
        "name, age = \"Peter,24\".split(\",\")\n",
        "print(name)\n",
        "print(age)"
      ],
      "metadata": {
        "colab": {
          "base_uri": "https://localhost:8080/"
        },
        "id": "Rl_1_iCVF046",
        "outputId": "c32e1e74-a26a-4c0a-ec0b-5d0a05d81869"
      },
      "execution_count": 61,
      "outputs": [
        {
          "output_type": "stream",
          "name": "stdout",
          "text": [
            "Peter\n",
            "24\n"
          ]
        }
      ]
    },
    {
      "cell_type": "code",
      "source": [
        "def rectangle_info(x ,y):\n",
        "    a = x * y\n",
        "    p = 2 * (x + y)\n",
        "    return a, p\n",
        "rectangle_info(2, 10)"
      ],
      "metadata": {
        "colab": {
          "base_uri": "https://localhost:8080/"
        },
        "id": "mdhKkj9vF3mg",
        "outputId": "087f5296-ffa4-4cef-a696-3b4aef872b1b"
      },
      "execution_count": 62,
      "outputs": [
        {
          "output_type": "execute_result",
          "data": {
            "text/plain": [
              "(20, 24)"
            ]
          },
          "metadata": {},
          "execution_count": 62
        }
      ]
    },
    {
      "cell_type": "markdown",
      "source": [],
      "metadata": {
        "id": "X1opxIsxGJhj"
      }
    },
    {
      "cell_type": "code",
      "source": [],
      "metadata": {
        "id": "LX4E5kwiF-DL"
      },
      "execution_count": null,
      "outputs": []
    }
  ]
}