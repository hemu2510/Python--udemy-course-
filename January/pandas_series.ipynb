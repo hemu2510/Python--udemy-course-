{
  "nbformat": 4,
  "nbformat_minor": 0,
  "metadata": {
    "colab": {
      "provenance": [],
      "authorship_tag": "ABX9TyNrMQaLCv9aTUEOSay7hQXy",
      "include_colab_link": true
    },
    "kernelspec": {
      "name": "python3",
      "display_name": "Python 3"
    },
    "language_info": {
      "name": "python"
    }
  },
  "cells": [
    {
      "cell_type": "markdown",
      "metadata": {
        "id": "view-in-github",
        "colab_type": "text"
      },
      "source": [
        "<a href=\"https://colab.research.google.com/github/hemu2510/Python-Project/blob/main/pandas_series.ipynb\" target=\"_parent\"><img src=\"https://colab.research.google.com/assets/colab-badge.svg\" alt=\"Open In Colab\"/></a>"
      ]
    },
    {
      "cell_type": "code",
      "execution_count": null,
      "metadata": {
        "colab": {
          "base_uri": "https://localhost:8080/"
        },
        "id": "0w3JQGM2taU2",
        "outputId": "f86a7a42-c5d4-49a3-951a-f85cf58c72cd"
      },
      "outputs": [
        {
          "output_type": "stream",
          "name": "stdout",
          "text": [
            "0 1 2 3 4 5 6 7 8 9 "
          ]
        }
      ],
      "source": [
        "for i in range(10):\n",
        "  print(i, end  = \" \")"
      ]
    },
    {
      "cell_type": "code",
      "source": [
        "products_on_sale = ['Chair_Type_1', 'Chair_Type_2', 'Chair_Type_3', 'Chair_Type_4']\n",
        "sale_prices = [100, 120, 135, 150]\n",
        "quantities = [1000, 1500, 1300]\n",
        "\n",
        "# Nested loop to calculate potential revenue\n",
        "for chair_type in products_on_sale:\n",
        "    for price in sale_prices:\n",
        "        for quantity in quantities:\n",
        "            potential_revenue = price * quantity\n",
        "            print(f\"Expected revenue for {chair_type} if {quantity} chairs are to be sold: {potential_revenue}\")\n"
      ],
      "metadata": {
        "colab": {
          "base_uri": "https://localhost:8080/"
        },
        "id": "tYRUOKzxuX7k",
        "outputId": "fe702d55-53d3-43eb-972b-6ade7e8b4ceb"
      },
      "execution_count": null,
      "outputs": [
        {
          "output_type": "stream",
          "name": "stdout",
          "text": [
            "Expected revenue for Chair_Type_1 if 1000 chairs are to be sold: 100000\n",
            "Expected revenue for Chair_Type_1 if 1500 chairs are to be sold: 150000\n",
            "Expected revenue for Chair_Type_1 if 1300 chairs are to be sold: 130000\n",
            "Expected revenue for Chair_Type_1 if 1000 chairs are to be sold: 120000\n",
            "Expected revenue for Chair_Type_1 if 1500 chairs are to be sold: 180000\n",
            "Expected revenue for Chair_Type_1 if 1300 chairs are to be sold: 156000\n",
            "Expected revenue for Chair_Type_1 if 1000 chairs are to be sold: 135000\n",
            "Expected revenue for Chair_Type_1 if 1500 chairs are to be sold: 202500\n",
            "Expected revenue for Chair_Type_1 if 1300 chairs are to be sold: 175500\n",
            "Expected revenue for Chair_Type_1 if 1000 chairs are to be sold: 150000\n",
            "Expected revenue for Chair_Type_1 if 1500 chairs are to be sold: 225000\n",
            "Expected revenue for Chair_Type_1 if 1300 chairs are to be sold: 195000\n",
            "Expected revenue for Chair_Type_2 if 1000 chairs are to be sold: 100000\n",
            "Expected revenue for Chair_Type_2 if 1500 chairs are to be sold: 150000\n",
            "Expected revenue for Chair_Type_2 if 1300 chairs are to be sold: 130000\n",
            "Expected revenue for Chair_Type_2 if 1000 chairs are to be sold: 120000\n",
            "Expected revenue for Chair_Type_2 if 1500 chairs are to be sold: 180000\n",
            "Expected revenue for Chair_Type_2 if 1300 chairs are to be sold: 156000\n",
            "Expected revenue for Chair_Type_2 if 1000 chairs are to be sold: 135000\n",
            "Expected revenue for Chair_Type_2 if 1500 chairs are to be sold: 202500\n",
            "Expected revenue for Chair_Type_2 if 1300 chairs are to be sold: 175500\n",
            "Expected revenue for Chair_Type_2 if 1000 chairs are to be sold: 150000\n",
            "Expected revenue for Chair_Type_2 if 1500 chairs are to be sold: 225000\n",
            "Expected revenue for Chair_Type_2 if 1300 chairs are to be sold: 195000\n",
            "Expected revenue for Chair_Type_3 if 1000 chairs are to be sold: 100000\n",
            "Expected revenue for Chair_Type_3 if 1500 chairs are to be sold: 150000\n",
            "Expected revenue for Chair_Type_3 if 1300 chairs are to be sold: 130000\n",
            "Expected revenue for Chair_Type_3 if 1000 chairs are to be sold: 120000\n",
            "Expected revenue for Chair_Type_3 if 1500 chairs are to be sold: 180000\n",
            "Expected revenue for Chair_Type_3 if 1300 chairs are to be sold: 156000\n",
            "Expected revenue for Chair_Type_3 if 1000 chairs are to be sold: 135000\n",
            "Expected revenue for Chair_Type_3 if 1500 chairs are to be sold: 202500\n",
            "Expected revenue for Chair_Type_3 if 1300 chairs are to be sold: 175500\n",
            "Expected revenue for Chair_Type_3 if 1000 chairs are to be sold: 150000\n",
            "Expected revenue for Chair_Type_3 if 1500 chairs are to be sold: 225000\n",
            "Expected revenue for Chair_Type_3 if 1300 chairs are to be sold: 195000\n",
            "Expected revenue for Chair_Type_4 if 1000 chairs are to be sold: 100000\n",
            "Expected revenue for Chair_Type_4 if 1500 chairs are to be sold: 150000\n",
            "Expected revenue for Chair_Type_4 if 1300 chairs are to be sold: 130000\n",
            "Expected revenue for Chair_Type_4 if 1000 chairs are to be sold: 120000\n",
            "Expected revenue for Chair_Type_4 if 1500 chairs are to be sold: 180000\n",
            "Expected revenue for Chair_Type_4 if 1300 chairs are to be sold: 156000\n",
            "Expected revenue for Chair_Type_4 if 1000 chairs are to be sold: 135000\n",
            "Expected revenue for Chair_Type_4 if 1500 chairs are to be sold: 202500\n",
            "Expected revenue for Chair_Type_4 if 1300 chairs are to be sold: 175500\n",
            "Expected revenue for Chair_Type_4 if 1000 chairs are to be sold: 150000\n",
            "Expected revenue for Chair_Type_4 if 1500 chairs are to be sold: 225000\n",
            "Expected revenue for Chair_Type_4 if 1300 chairs are to be sold: 195000\n"
          ]
        }
      ]
    },
    {
      "cell_type": "code",
      "source": [
        "products_on_sale = ['Chair_Type_1', 'Chair_Type_2', 'Chair_Type_3', 'Chair_Type_4']\n",
        "sale_prices = [100, 120, 135, 150]\n",
        "quantities = [1000, 1500, 1300]\n",
        "\n",
        "# Nested loop to calculate potential revenue\n",
        "for chair_type in products_on_sale:\n",
        "    for price in sale_prices:\n",
        "        for quantity in quantities:\n",
        "          sales_revenue = price * quantity\n",
        "          print([chair_type, price*quantity])"
      ],
      "metadata": {
        "colab": {
          "base_uri": "https://localhost:8080/"
        },
        "id": "uLkOUgpb0G_M",
        "outputId": "9d54497a-e5cf-4258-f47d-d2a49c74efbd"
      },
      "execution_count": null,
      "outputs": [
        {
          "output_type": "stream",
          "name": "stdout",
          "text": [
            "['Chair_Type_1', 100000]\n",
            "['Chair_Type_1', 150000]\n",
            "['Chair_Type_1', 130000]\n",
            "['Chair_Type_1', 120000]\n",
            "['Chair_Type_1', 180000]\n",
            "['Chair_Type_1', 156000]\n",
            "['Chair_Type_1', 135000]\n",
            "['Chair_Type_1', 202500]\n",
            "['Chair_Type_1', 175500]\n",
            "['Chair_Type_1', 150000]\n",
            "['Chair_Type_1', 225000]\n",
            "['Chair_Type_1', 195000]\n",
            "['Chair_Type_2', 100000]\n",
            "['Chair_Type_2', 150000]\n",
            "['Chair_Type_2', 130000]\n",
            "['Chair_Type_2', 120000]\n",
            "['Chair_Type_2', 180000]\n",
            "['Chair_Type_2', 156000]\n",
            "['Chair_Type_2', 135000]\n",
            "['Chair_Type_2', 202500]\n",
            "['Chair_Type_2', 175500]\n",
            "['Chair_Type_2', 150000]\n",
            "['Chair_Type_2', 225000]\n",
            "['Chair_Type_2', 195000]\n",
            "['Chair_Type_3', 100000]\n",
            "['Chair_Type_3', 150000]\n",
            "['Chair_Type_3', 130000]\n",
            "['Chair_Type_3', 120000]\n",
            "['Chair_Type_3', 180000]\n",
            "['Chair_Type_3', 156000]\n",
            "['Chair_Type_3', 135000]\n",
            "['Chair_Type_3', 202500]\n",
            "['Chair_Type_3', 175500]\n",
            "['Chair_Type_3', 150000]\n",
            "['Chair_Type_3', 225000]\n",
            "['Chair_Type_3', 195000]\n",
            "['Chair_Type_4', 100000]\n",
            "['Chair_Type_4', 150000]\n",
            "['Chair_Type_4', 130000]\n",
            "['Chair_Type_4', 120000]\n",
            "['Chair_Type_4', 180000]\n",
            "['Chair_Type_4', 156000]\n",
            "['Chair_Type_4', 135000]\n",
            "['Chair_Type_4', 202500]\n",
            "['Chair_Type_4', 175500]\n",
            "['Chair_Type_4', 150000]\n",
            "['Chair_Type_4', 225000]\n",
            "['Chair_Type_4', 195000]\n"
          ]
        }
      ]
    },
    {
      "cell_type": "code",
      "source": [
        "num = []\n",
        "for num in range(1, 11):\n",
        "    if num % 2 == 0:\n",
        "        print(num * 10, end=\" \")\n"
      ],
      "metadata": {
        "colab": {
          "base_uri": "https://localhost:8080/"
        },
        "id": "8TPUqeW580Wv",
        "outputId": "a38e2af8-3ab7-4b8b-914e-fd74780bcb36"
      },
      "execution_count": null,
      "outputs": [
        {
          "output_type": "stream",
          "name": "stdout",
          "text": [
            "20 40 60 80 100 "
          ]
        }
      ]
    },
    {
      "cell_type": "code",
      "source": [
        "result = [num * 10 if num % == 0 else \"None\" for num in range (1,11)]\n",
        "print(result)"
      ],
      "metadata": {
        "colab": {
          "base_uri": "https://localhost:8080/",
          "height": 106
        },
        "id": "ZWSAGeqi_8ZQ",
        "outputId": "09d8a748-b4f6-4e60-924f-2e733ae0dcf8"
      },
      "execution_count": null,
      "outputs": [
        {
          "output_type": "error",
          "ename": "SyntaxError",
          "evalue": "expected 'else' after 'if' expression (<ipython-input-4-7099e63d38c5>, line 1)",
          "traceback": [
            "\u001b[0;36m  File \u001b[0;32m\"<ipython-input-4-7099e63d38c5>\"\u001b[0;36m, line \u001b[0;32m1\u001b[0m\n\u001b[0;31m    result = [num * 10 if num % == 0 else \"None\" for num in range (1,11)]\u001b[0m\n\u001b[0m              ^\u001b[0m\n\u001b[0;31mSyntaxError\u001b[0m\u001b[0;31m:\u001b[0m expected 'else' after 'if' expression\n"
          ]
        }
      ]
    },
    {
      "cell_type": "code",
      "source": [
        "for num in range(1,11):\n",
        "  if num % 2 == 0:\n",
        "    print(num * 10, end=\" \")\n",
        "  else:\n",
        "    print(\"None\", end=\" \")"
      ],
      "metadata": {
        "colab": {
          "base_uri": "https://localhost:8080/"
        },
        "id": "WpQuPkmDR2FB",
        "outputId": "5f22b903-7d05-4612-99c7-081f9bc7cc1f"
      },
      "execution_count": null,
      "outputs": [
        {
          "output_type": "stream",
          "name": "stdout",
          "text": [
            "None 20 None 40 None 60 None 80 None 100 "
          ]
        }
      ]
    },
    {
      "cell_type": "code",
      "source": [
        "def multiply_by_10(x):\n",
        "    return x * 10\n",
        "result = multiply_by_10(5)\n",
        "print(result)"
      ],
      "metadata": {
        "colab": {
          "base_uri": "https://localhost:8080/"
        },
        "id": "9ccgiev1SRxA",
        "outputId": "5dca7ace-d40b-4daf-f061-72466940971b"
      },
      "execution_count": null,
      "outputs": [
        {
          "output_type": "stream",
          "name": "stdout",
          "text": [
            "50\n"
          ]
        }
      ]
    },
    {
      "cell_type": "code",
      "source": [
        "print ((lambda x: x * 10)(7))"
      ],
      "metadata": {
        "colab": {
          "base_uri": "https://localhost:8080/"
        },
        "id": "p38YNUdDVdUy",
        "outputId": "71f3fee3-bc30-4b49-959a-7a90000b778f"
      },
      "execution_count": null,
      "outputs": [
        {
          "output_type": "stream",
          "name": "stdout",
          "text": [
            "70\n"
          ]
        }
      ]
    },
    {
      "cell_type": "code",
      "source": [
        "product_xy = lambda x, y: x * y\n",
        "print(product_xy(4, 20))"
      ],
      "metadata": {
        "colab": {
          "base_uri": "https://localhost:8080/"
        },
        "id": "LkVeGJb6WPbx",
        "outputId": "72e66986-c5fc-4bbc-880a-3523b19960c8"
      },
      "execution_count": null,
      "outputs": [
        {
          "output_type": "stream",
          "name": "stdout",
          "text": [
            "80\n"
          ]
        }
      ]
    },
    {
      "cell_type": "code",
      "source": [
        " expression = lambda x: (135 - x *** 3) 4 % (1 + x)5\n",
        "print(expression(3))"
      ],
      "metadata": {
        "colab": {
          "base_uri": "https://localhost:8080/",
          "height": 106
        },
        "id": "7-DYTQv_Xbkv",
        "outputId": "85de531e-6799-4402-e206-d3dd2477d447"
      },
      "execution_count": null,
      "outputs": [
        {
          "output_type": "error",
          "ename": "SyntaxError",
          "evalue": "invalid syntax (<ipython-input-13-be45ace20ee1>, line 1)",
          "traceback": [
            "\u001b[0;36m  File \u001b[0;32m\"<ipython-input-13-be45ace20ee1>\"\u001b[0;36m, line \u001b[0;32m1\u001b[0m\n\u001b[0;31m    expression = lambda x: (135 - x *** 3) 4 % (1 + x)5\u001b[0m\n\u001b[0m                                      ^\u001b[0m\n\u001b[0;31mSyntaxError\u001b[0m\u001b[0;31m:\u001b[0m invalid syntax\n"
          ]
        }
      ]
    },
    {
      "cell_type": "code",
      "source": [
        " expression = lambda x: (135-x **3)**4 / (1 + x)**5\n",
        "print(expression(3))"
      ],
      "metadata": {
        "colab": {
          "base_uri": "https://localhost:8080/"
        },
        "id": "lucYRpQ_YSSL",
        "outputId": "ed0032b1-8fcc-44fa-aea2-bd1444667f3b"
      },
      "execution_count": null,
      "outputs": [
        {
          "output_type": "stream",
          "name": "stdout",
          "text": [
            "132860.25\n"
          ]
        }
      ]
    },
    {
      "cell_type": "code",
      "source": [
        "import pandas as pd\n",
        "\n",
        "data = pd.read_csv(r\"/content/Region.csv\").squeeze(\"columns\")\n",
        "region_data = data.head()\n",
        "print(region_data)"
      ],
      "metadata": {
        "colab": {
          "base_uri": "https://localhost:8080/"
        },
        "id": "meXPbatoZHgu",
        "outputId": "ab3dd572-d62f-4837-fbc5-87f8b337747b"
      },
      "execution_count": 4,
      "outputs": [
        {
          "output_type": "stream",
          "name": "stdout",
          "text": [
            "0    Region 2\n",
            "1    Region 6\n",
            "2    Region 3\n",
            "3    Region 2\n",
            "4    Region 3\n",
            "Name: Region, dtype: object\n"
          ]
        }
      ]
    },
    {
      "cell_type": "code",
      "source": [
        "import pandas as pd\n",
        "\n",
        "data = pd.read_csv(r\"/content/Region.csv\").squeeze(\"columns\")\n",
        "\n",
        "\n",
        "def extract_number(region_label):\n",
        "    return int(region_label.split(' ')[1])\n",
        "\n",
        "    region_data = region_data.apply(extract_number)\n",
        "print(region_data)"
      ],
      "metadata": {
        "colab": {
          "base_uri": "https://localhost:8080/"
        },
        "id": "W5ZNdwwbuKSG",
        "outputId": "ee11ce20-5d53-4460-eaf8-660f379e75b5"
      },
      "execution_count": 10,
      "outputs": [
        {
          "output_type": "stream",
          "name": "stdout",
          "text": [
            "0       Region 2\n",
            "1       Region 6\n",
            "2       Region 3\n",
            "3       Region 2\n",
            "4       Region 3\n",
            "          ...   \n",
            "1037    Region 6\n",
            "1038    Region 1\n",
            "1039    Region 4\n",
            "1040    Region 6\n",
            "1041    Region 6\n",
            "Name: Region, Length: 1042, dtype: object\n"
          ]
        }
      ]
    },
    {
      "cell_type": "code",
      "source": [
        "import pandas as pd\n",
        "\n",
        "data = pd.read_csv(r\"/content/Region.csv\").squeeze(\"columns\")\n",
        "region_data = data.copy()\n",
        "region_data_sorted = region_data.sort_values(ascending=True)\n",
        "print(region_data_sorted)\n"
      ],
      "metadata": {
        "colab": {
          "base_uri": "https://localhost:8080/"
        },
        "id": "JP9VnXeGvyiW",
        "outputId": "db9dc808-ed36-44e8-95ad-7d779422d55b"
      },
      "execution_count": 15,
      "outputs": [
        {
          "output_type": "stream",
          "name": "stdout",
          "text": [
            "462    Region 1\n",
            "347    Region 1\n",
            "609    Region 1\n",
            "610    Region 1\n",
            "339    Region 1\n",
            "         ...   \n",
            "536    Region 9\n",
            "450    Region 9\n",
            "8      Region 9\n",
            "842    Region 9\n",
            "940    Region 9\n",
            "Name: Region, Length: 1042, dtype: object\n"
          ]
        }
      ]
    },
    {
      "cell_type": "code",
      "source": [
        "import pandas as pd\n",
        "\n",
        "data = pd.read_csv(r\"/content/Region.csv\").squeeze(\"columns\")\n",
        "region_data = data.copy()\n",
        "region_data_sorted = region_data.sort_values(ascending=False)\n",
        "print(region_data_sorted)\n"
      ],
      "metadata": {
        "colab": {
          "base_uri": "https://localhost:8080/"
        },
        "id": "5JR5iZUNxXOi",
        "outputId": "6972ab17-4a28-4473-b8ed-8bc886e8e5d5"
      },
      "execution_count": 16,
      "outputs": [
        {
          "output_type": "stream",
          "name": "stdout",
          "text": [
            "450    Region 9\n",
            "842    Region 9\n",
            "141    Region 9\n",
            "940    Region 9\n",
            "8      Region 9\n",
            "         ...   \n",
            "569    Region 1\n",
            "892    Region 1\n",
            "558    Region 1\n",
            "557    Region 1\n",
            "309    Region 1\n",
            "Name: Region, Length: 1042, dtype: object\n"
          ]
        }
      ]
    },
    {
      "cell_type": "code",
      "source": [
        "import pandas as pd\n",
        "data = pd.read_csv(r\"/content/Region.csv\").squeeze(\"columns\")\n",
        "region_data = data.head()\n",
        "print(region_data.to_list())"
      ],
      "metadata": {
        "colab": {
          "base_uri": "https://localhost:8080/"
        },
        "id": "srtZnpGLz-xE",
        "outputId": "170cafb5-4d8a-4ba6-9fb1-a34808f741c3"
      },
      "execution_count": 19,
      "outputs": [
        {
          "output_type": "stream",
          "name": "stdout",
          "text": [
            "['Region 2', 'Region 6', 'Region 3', 'Region 2', 'Region 3']\n"
          ]
        }
      ]
    },
    {
      "cell_type": "code",
      "source": [],
      "metadata": {
        "colab": {
          "base_uri": "https://localhost:8080/",
          "height": 176
        },
        "id": "E2qq3JeH11Sl",
        "outputId": "40c73c7f-90a3-4735-be95-35161da229ec"
      },
      "execution_count": 24,
      "outputs": [
        {
          "output_type": "error",
          "ename": "TypeError",
          "evalue": "'Series' object is not callable",
          "traceback": [
            "\u001b[0;31m---------------------------------------------------------------------------\u001b[0m",
            "\u001b[0;31mTypeError\u001b[0m                                 Traceback (most recent call last)",
            "\u001b[0;32m<ipython-input-24-56ae4418ef14>\u001b[0m in \u001b[0;36m<cell line: 0>\u001b[0;34m()\u001b[0m\n\u001b[1;32m      3\u001b[0m \u001b[0mdata\u001b[0m \u001b[0;34m=\u001b[0m \u001b[0mpd\u001b[0m\u001b[0;34m.\u001b[0m\u001b[0mread_csv\u001b[0m\u001b[0;34m(\u001b[0m\u001b[0;34m'Region.csv'\u001b[0m\u001b[0;34m)\u001b[0m\u001b[0;34m.\u001b[0m\u001b[0msqueeze\u001b[0m\u001b[0;34m(\u001b[0m\u001b[0;34m\"columns\"\u001b[0m\u001b[0;34m)\u001b[0m\u001b[0;34m\u001b[0m\u001b[0;34m\u001b[0m\u001b[0m\n\u001b[1;32m      4\u001b[0m \u001b[0mregion_data\u001b[0m \u001b[0;34m=\u001b[0m \u001b[0mdata\u001b[0m\u001b[0;34m.\u001b[0m\u001b[0mcopy\u001b[0m\u001b[0;34m(\u001b[0m\u001b[0;34m)\u001b[0m\u001b[0;34m\u001b[0m\u001b[0;34m\u001b[0m\u001b[0m\n\u001b[0;32m----> 5\u001b[0;31m \u001b[0mprint\u001b[0m\u001b[0;34m(\u001b[0m\u001b[0mregion_data\u001b[0m\u001b[0;34m(\u001b[0m\u001b[0mascending\u001b[0m\u001b[0;34m=\u001b[0m\u001b[0;32mTrue\u001b[0m\u001b[0;34m)\u001b[0m\u001b[0;34m.\u001b[0m\u001b[0mhead\u001b[0m\u001b[0;34m(\u001b[0m\u001b[0;34m)\u001b[0m\u001b[0;34m)\u001b[0m\u001b[0;34m\u001b[0m\u001b[0;34m\u001b[0m\u001b[0m\n\u001b[0m",
            "\u001b[0;31mTypeError\u001b[0m: 'Series' object is not callable"
          ]
        }
      ]
    },
    {
      "cell_type": "markdown",
      "source": [],
      "metadata": {
        "id": "iDEoZDxC4qeJ"
      }
    },
    {
      "cell_type": "code",
      "source": [
        "import pandas as pd\n",
        "\n",
        "data = pd.read_csv('Region.csv').squeeze(\"columns\")\n",
        "region_data = data.copy()\n",
        "region_data = data.sort_values(ascending=True).head(5)\n",
        "print(region_data)"
      ],
      "metadata": {
        "colab": {
          "base_uri": "https://localhost:8080/"
        },
        "id": "5CL90eEb3ebN",
        "outputId": "647c01dc-970c-4b7e-fe6b-43a5bd17d3ba"
      },
      "execution_count": 31,
      "outputs": [
        {
          "output_type": "stream",
          "name": "stdout",
          "text": [
            "462    Region 1\n",
            "347    Region 1\n",
            "609    Region 1\n",
            "610    Region 1\n",
            "339    Region 1\n",
            "Name: Region, dtype: object\n"
          ]
        }
      ]
    },
    {
      "cell_type": "code",
      "source": [
        "import pandas as pd\n",
        "\n",
        "data = pd.read_csv('Region.csv').squeeze(\"columns\")\n",
        "region_data = data.copy()\n",
        "region_data = data.sort_values(ascending=False).tail(5)\n",
        "print(region_data)"
      ],
      "metadata": {
        "colab": {
          "base_uri": "https://localhost:8080/"
        },
        "id": "QpR_cyct4rc_",
        "outputId": "736d3331-ce8c-446d-8be6-7eee1d83a96a"
      },
      "execution_count": 28,
      "outputs": [
        {
          "output_type": "stream",
          "name": "stdout",
          "text": [
            "569    Region 1\n",
            "892    Region 1\n",
            "558    Region 1\n",
            "557    Region 1\n",
            "309    Region 1\n",
            "Name: Region, dtype: object\n"
          ]
        }
      ]
    },
    {
      "cell_type": "code",
      "source": [
        "import pandas as pd\n",
        "emp_birth_date = pd.Series({\n",
        "    'No_0001': '1963-08-02',\n",
        "    'No_0002': '1964_06-13',\n",
        "    'No_0003': '1989-12-04',\n",
        "    'No_0004': '1996-04-08'\n",
        "\n",
        "})\n",
        "print(emp_birth_date)"
      ],
      "metadata": {
        "colab": {
          "base_uri": "https://localhost:8080/"
        },
        "id": "HESy254N41v0",
        "outputId": "539a36a6-82ba-40ad-b8c3-09cafbe056f5"
      },
      "execution_count": 35,
      "outputs": [
        {
          "output_type": "stream",
          "name": "stdout",
          "text": [
            "No_0001    1963-08-02\n",
            "No_0002    1964_06-13\n",
            "No_0003    1989-12-04\n",
            "No_0004    1996-04-08\n",
            "dtype: object\n"
          ]
        }
      ]
    },
    {
      "cell_type": "code",
      "source": [
        "import pandas as pd\n",
        "\n",
        "emp_birth_date = pd.Series({'No_0001':'1963-08-02', 'No_0002':'1964-06-13', 'No_0003':'1989-12-04', 'No_0004':'1996-04-08'})\n",
        "emp_index = emp_birth_date.index\n",
        "print(emp_index)"
      ],
      "metadata": {
        "colab": {
          "base_uri": "https://localhost:8080/"
        },
        "id": "hfGtzSu16yr0",
        "outputId": "6805df30-305c-4dc6-9d17-7ed3d280ed3a"
      },
      "execution_count": 3,
      "outputs": [
        {
          "output_type": "stream",
          "name": "stdout",
          "text": [
            "Index(['No_0001', 'No_0002', 'No_0003', 'No_0004'], dtype='object')\n"
          ]
        }
      ]
    },
    {
      "cell_type": "code",
      "source": [
        " import pandas as pd\n",
        " emp_birth_date = pd.Series({\n",
        "     'No_0001':'1963-08-02',\n",
        "     'No_0002':'1964-06-13',\n",
        "     'No_0003':'1989-12-04',\n",
        "     'No_0004':'1996-04-08'\n",
        "    })\n",
        "\n",
        " emp_values = emp_birth_date.values\n",
        " print(emp_values)"
      ],
      "metadata": {
        "colab": {
          "base_uri": "https://localhost:8080/"
        },
        "id": "3042ehDVNIXe",
        "outputId": "5f9a4eef-ebbb-4c6e-f0ed-c271277f0bb7"
      },
      "execution_count": 7,
      "outputs": [
        {
          "output_type": "stream",
          "name": "stdout",
          "text": [
            "['1963-08-02' '1964-06-13' '1989-12-04' '1996-04-08']\n"
          ]
        }
      ]
    },
    {
      "cell_type": "code",
      "source": [
        "import pandas as pd\n",
        "data = pd.read_csv(r\"/content/Region.csv\").squeeze(\"columns\")\n",
        "print(region_data.head())"
      ],
      "metadata": {
        "colab": {
          "base_uri": "https://localhost:8080/"
        },
        "id": "QUYG3ghKOF5m",
        "outputId": "4f325b3b-5eaf-4afd-cee8-55bd20cd60da"
      },
      "execution_count": 12,
      "outputs": [
        {
          "output_type": "stream",
          "name": "stdout",
          "text": [
            "0    Region 2\n",
            "1    Region 6\n",
            "2    Region 3\n",
            "3    Region 2\n",
            "4    Region 3\n",
            "Name: Region, dtype: object\n"
          ]
        }
      ]
    },
    {
      "cell_type": "code",
      "source": [
        "import pandas as pd\n",
        "\n",
        "data = pd.read_csv('Region.csv').squeeze(\"columns\")\n",
        "region_data = data.copy()\n",
        "region_data = data.sort_values(ascending=False)\n",
        "print(region_data)"
      ],
      "metadata": {
        "colab": {
          "base_uri": "https://localhost:8080/"
        },
        "id": "AY73HKUEQZuj",
        "outputId": "c56a608e-e832-4878-80ce-ff5aebe91429"
      },
      "execution_count": 13,
      "outputs": [
        {
          "output_type": "stream",
          "name": "stdout",
          "text": [
            "450    Region 9\n",
            "842    Region 9\n",
            "141    Region 9\n",
            "940    Region 9\n",
            "8      Region 9\n",
            "         ...   \n",
            "569    Region 1\n",
            "892    Region 1\n",
            "558    Region 1\n",
            "557    Region 1\n",
            "309    Region 1\n",
            "Name: Region, Length: 1042, dtype: object\n"
          ]
        }
      ]
    },
    {
      "cell_type": "code",
      "source": [
        "import pandas as pd\n",
        "\n",
        "data = pd.read_csv('Region.csv').squeeze(\"columns\")\n",
        "region_data = data.copy()\n",
        "region_data = region_data.sort_values(ascending=False)\n",
        "region_data_sort = region_data.sort_index()\n",
        "print(region_data_sort)"
      ],
      "metadata": {
        "colab": {
          "base_uri": "https://localhost:8080/"
        },
        "id": "ltLmyNFvSCWv",
        "outputId": "fb878d3e-02aa-4a3d-9f86-87c9668f692f"
      },
      "execution_count": 14,
      "outputs": [
        {
          "output_type": "stream",
          "name": "stdout",
          "text": [
            "0       Region 2\n",
            "1       Region 6\n",
            "2       Region 3\n",
            "3       Region 2\n",
            "4       Region 3\n",
            "          ...   \n",
            "1037    Region 6\n",
            "1038    Region 1\n",
            "1039    Region 4\n",
            "1040    Region 6\n",
            "1041    Region 6\n",
            "Name: Region, Length: 1042, dtype: object\n"
          ]
        }
      ]
    },
    {
      "cell_type": "code",
      "source": [
        "import pandas as pd\n",
        "\n",
        "data = pd.read_csv('Region.csv').squeeze(\"columns\")\n",
        "region_data = data.copy()\n",
        "region_data = region_data.sort_values(ascending=False)\n",
        "region_data_sort = region_data.sort_index(ascending=False)\n",
        "print(region_data_sort)"
      ],
      "metadata": {
        "colab": {
          "base_uri": "https://localhost:8080/"
        },
        "id": "8qDUItQhTNgC",
        "outputId": "93974d89-dc3c-4017-fd6f-9d2fc630c6fe"
      },
      "execution_count": 15,
      "outputs": [
        {
          "output_type": "stream",
          "name": "stdout",
          "text": [
            "1041    Region 6\n",
            "1040    Region 6\n",
            "1039    Region 4\n",
            "1038    Region 1\n",
            "1037    Region 6\n",
            "          ...   \n",
            "4       Region 3\n",
            "3       Region 2\n",
            "2       Region 3\n",
            "1       Region 6\n",
            "0       Region 2\n",
            "Name: Region, Length: 1042, dtype: object\n"
          ]
        }
      ]
    },
    {
      "cell_type": "code",
      "source": [],
      "metadata": {
        "id": "jWe1o560XFpr"
      },
      "execution_count": null,
      "outputs": []
    }
  ]
}